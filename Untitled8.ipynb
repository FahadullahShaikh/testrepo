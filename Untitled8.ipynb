{
 "cells": [
  {
   "cell_type": "code",
   "execution_count": null,
   "metadata": {},
   "outputs": [],
   "source": [
    "print('Atm Machine')\n",
    "print('''\n",
    "To deposit type: d\n",
    "\n",
    "To withdraw type: w\n",
    "''')\n",
    "global amount,deposit,withdraw\n",
    "amount=1000\n",
    "operation=input(\"Enter transaction type here: \")\n",
    "\n",
    "#function declaration here\n",
    "def add():\n",
    "    if deposit>0:\n",
    "        add=(amount+deposit)\n",
    "        print(\"Total amount \",add)\n",
    "    else:\n",
    "        print(\"No amount deposited\")\n",
    "        \n",
    "def minus():\n",
    "    if withdraw>0 and withdraw < amount:\n",
    "        sub=(amount-withdraw)\n",
    "        print(\"Total amount is \",sub)\n",
    "    elif withdraw>amount:\n",
    "        print(\"No enough amount is in account\")\n",
    "    else:\n",
    "        print(\"transaction failed\")\n",
    "\n",
    "    \n",
    "\n",
    "def transaction():\n",
    "    if operation.lower() == 'd':\n",
    "        print(\"Amount is \",amount)\n",
    "        \n",
    "        deposit=int(input(\"Enter deposit amount \"))\n",
    "        add()\n",
    "        \n",
    "    elif transaction.lower()==\"w\":\n",
    "        print(\"Amount is   \",amount)\n",
    "        withdraw=int(input(\"Enter withdraw amount \"))\n",
    "        minus()\n",
    "        \n",
    "transaction()\n",
    "        "
   ]
  },
  {
   "cell_type": "code",
   "execution_count": null,
   "metadata": {},
   "outputs": [],
   "source": []
  },
  {
   "cell_type": "code",
   "execution_count": null,
   "metadata": {},
   "outputs": [],
   "source": []
  },
  {
   "cell_type": "code",
   "execution_count": null,
   "metadata": {},
   "outputs": [],
   "source": []
  }
 ],
 "metadata": {
  "kernelspec": {
   "display_name": "Python 3",
   "language": "python",
   "name": "python3"
  },
  "language_info": {
   "codemirror_mode": {
    "name": "ipython",
    "version": 3
   },
   "file_extension": ".py",
   "mimetype": "text/x-python",
   "name": "python",
   "nbconvert_exporter": "python",
   "pygments_lexer": "ipython3",
   "version": "3.7.1"
  }
 },
 "nbformat": 4,
 "nbformat_minor": 2
}
