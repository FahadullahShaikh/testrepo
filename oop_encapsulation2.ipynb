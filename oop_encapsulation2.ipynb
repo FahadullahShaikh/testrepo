{
 "cells": [
  {
   "cell_type": "code",
   "execution_count": 8,
   "metadata": {},
   "outputs": [
    {
     "name": "stdout",
     "output_type": "stream",
     "text": [
      "300\n",
      "red\n"
     ]
    }
   ],
   "source": [
    "class Car:\n",
    "        def __init__(self,speed,color):\n",
    "            self.__speed = speed\n",
    "            self.__color = color\n",
    "            \n",
    "        def set_speed(self,value):\n",
    "            self.__speed = value\n",
    "            \n",
    "        def get_speed(self):\n",
    "            return self.__speed\n",
    "        \n",
    "        def set_color(self,value):\n",
    "            self.__color = value\n",
    "            \n",
    "        def get_color(self):\n",
    "            return self.__color\n",
    "            \n",
    "ford = Car(200, 'red')\n",
    "honda = Car(250,'blue')\n",
    "audi = Car(300,'black')\n",
    "\n",
    "ford.set_speed(300)\n",
    "#ford.__speed(400)\n",
    "\n",
    "print(ford.get_speed())\n",
    "print(ford.get_color())\n"
   ]
  },
  {
   "cell_type": "code",
   "execution_count": null,
   "metadata": {},
   "outputs": [],
   "source": []
  },
  {
   "cell_type": "code",
   "execution_count": null,
   "metadata": {},
   "outputs": [],
   "source": []
  }
 ],
 "metadata": {
  "kernelspec": {
   "display_name": "Python 3",
   "language": "python",
   "name": "python3"
  },
  "language_info": {
   "codemirror_mode": {
    "name": "ipython",
    "version": 3
   },
   "file_extension": ".py",
   "mimetype": "text/x-python",
   "name": "python",
   "nbconvert_exporter": "python",
   "pygments_lexer": "ipython3",
   "version": "3.7.1"
  }
 },
 "nbformat": 4,
 "nbformat_minor": 2
}
