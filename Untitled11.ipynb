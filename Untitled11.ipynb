{
 "cells": [
  {
   "cell_type": "code",
   "execution_count": 13,
   "metadata": {},
   "outputs": [
    {
     "name": "stdout",
     "output_type": "stream",
     "text": [
      "formatting for default, positional and keyword arguments\n",
      "my first name is fahad and my last name is shaikh\n",
      "my first name is fahad and my last name is shaikh\n",
      "my first name is fahad and last name is shaikh\n"
     ]
    }
   ],
   "source": [
    "print('formatting for default, positional and keyword arguments')\n",
    "\n",
    "fname = 'fahad'\n",
    "lname = 'shaikh'\n",
    "print('my first name is {} and my last name is {}'.format(fname,lname))\n",
    "print('my first name is {0} and my last name is {1}'.format(fname,lname))\n",
    "print('my first name is {x} and last name is {y}'.format(y=lname,x=fname))"
   ]
  },
  {
   "cell_type": "code",
   "execution_count": 14,
   "metadata": {},
   "outputs": [
    {
     "name": "stdout",
     "output_type": "stream",
     "text": [
      "['Learning', 'Python', 'is', 'very', 'very', 'easy', '!!!']\n",
      "<class 'list'>\n"
     ]
    }
   ],
   "source": [
    "s=\"Learning Python is very very easy !!!\"\n",
    "l=s.split()\n",
    "print(l)\n",
    "print(type(l))"
   ]
  },
  {
   "cell_type": "code",
   "execution_count": 17,
   "metadata": {},
   "outputs": [
    {
     "name": "stdout",
     "output_type": "stream",
     "text": [
      "['nouman', 'shakeel', 'raja', 'faisal']\n",
      "['nouman', 'shakeel', 'raja', 'faisal', 'asif']\n",
      "['fahad', 'nouman', 'shakeel', 'raja', 'faisal', 'asif']\n"
     ]
    }
   ],
   "source": [
    "mylist = ['nouman', 'shakeel', 'raja', 'faisal']\n",
    "print(mylist)\n",
    "mylist.append('asif')\n",
    "print(mylist)\n",
    "mylist.insert(0,'fahad')\n",
    "print(mylist)"
   ]
  },
  {
   "cell_type": "code",
   "execution_count": null,
   "metadata": {},
   "outputs": [],
   "source": []
  }
 ],
 "metadata": {
  "kernelspec": {
   "display_name": "Python 3",
   "language": "python",
   "name": "python3"
  },
  "language_info": {
   "codemirror_mode": {
    "name": "ipython",
    "version": 3
   },
   "file_extension": ".py",
   "mimetype": "text/x-python",
   "name": "python",
   "nbconvert_exporter": "python",
   "pygments_lexer": "ipython3",
   "version": "3.7.1"
  }
 },
 "nbformat": 4,
 "nbformat_minor": 2
}
