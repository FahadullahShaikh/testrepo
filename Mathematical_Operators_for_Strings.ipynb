{
 "cells": [
  {
   "cell_type": "code",
   "execution_count": 2,
   "metadata": {},
   "outputs": [
    {
     "name": "stdout",
     "output_type": "stream",
     "text": [
      " + This is called concatenation operator and both elements should be strings\n",
      "fahadshaikh\n"
     ]
    }
   ],
   "source": [
    "# +(plus) and * (Multiplu)\n",
    "print(' + This is called concatenation operator and both elements should be strings')\n",
    "firstname='fahad'\n",
    "lastname='shaikh'\n",
    "print(firstname+lastname)"
   ]
  },
  {
   "cell_type": "code",
   "execution_count": 6,
   "metadata": {},
   "outputs": [
    {
     "name": "stdout",
     "output_type": "stream",
     "text": [
      "17\n",
      "True\n"
     ]
    }
   ],
   "source": [
    "name='fahadullah shaikh'\n",
    "print(len(name))\n",
    "print('fahad' in name)"
   ]
  },
  {
   "cell_type": "code",
   "execution_count": 7,
   "metadata": {},
   "outputs": [
    {
     "name": "stdout",
     "output_type": "stream",
     "text": [
      "fahadullah shaikh \n",
      "11\n",
      "9\n",
      "4\n",
      "-1\n"
     ]
    }
   ],
   "source": [
    "name=\"fahadullah shaikh \"\n",
    "print(name)\n",
    "#name.strip()\n",
    "print(name.find('shaikh'))\n",
    "print(name.find('h',7,15))\n",
    "print(name.count('h'))\n",
    "print(name.find('z'))\n",
    "\n"
   ]
  },
  {
   "cell_type": "code",
   "execution_count": 12,
   "metadata": {},
   "outputs": [
    {
     "name": "stdout",
     "output_type": "stream",
     "text": [
      "11\n"
     ]
    }
   ],
   "source": [
    "name=\"fahadullah shaikh \"\n",
    "print(name.index('shaikh'))\n",
    "#print(abc)"
   ]
  },
  {
   "cell_type": "code",
   "execution_count": 13,
   "metadata": {},
   "outputs": [
    {
     "name": "stdout",
     "output_type": "stream",
     "text": [
      "faisal shaikh\n",
      "187730465904\n",
      "187723654832\n"
     ]
    }
   ],
   "source": [
    "elder=\"fahad shaikh\"\n",
    "n=elder.replace(\"fahad\", \"faisal\")\n",
    "print(n)\n",
    "print(id(elder))\n",
    "print(id(n))"
   ]
  },
  {
   "cell_type": "code",
   "execution_count": null,
   "metadata": {},
   "outputs": [],
   "source": []
  }
 ],
 "metadata": {
  "kernelspec": {
   "display_name": "Python 3",
   "language": "python",
   "name": "python3"
  },
  "language_info": {
   "codemirror_mode": {
    "name": "ipython",
    "version": 3
   },
   "file_extension": ".py",
   "mimetype": "text/x-python",
   "name": "python",
   "nbconvert_exporter": "python",
   "pygments_lexer": "ipython3",
   "version": "3.7.1"
  }
 },
 "nbformat": 4,
 "nbformat_minor": 2
}
