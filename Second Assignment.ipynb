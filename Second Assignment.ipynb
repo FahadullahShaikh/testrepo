{
 "cells": [
  {
   "cell_type": "markdown",
   "metadata": {},
   "source": [
    "Relational Operators:"
   ]
  },
  {
   "cell_type": "code",
   "execution_count": 15,
   "metadata": {},
   "outputs": [
    {
     "name": "stdout",
     "output_type": "stream",
     "text": [
      "type first number20\n",
      "type second number15\n",
      "20 is greater than 15\n"
     ]
    }
   ],
   "source": [
    "a=int(input(\"type first number\"))\n",
    "b=int(input(\"type second number\"))\n",
    "\n",
    "if a==b:\n",
    "    print(\"both value are equal\")\n",
    "\n",
    "elif a>b:\n",
    "    print(str(a) + \" is greater than \" + str(b))\n",
    "    \n",
    "elif a<b:\n",
    "    print(str(a) + \" is less than \" + str(b))\n"
   ]
  },
  {
   "cell_type": "code",
   "execution_count": 18,
   "metadata": {},
   "outputs": [
    {
     "name": "stdout",
     "output_type": "stream",
     "text": [
      "type first value10\n",
      "type second value15\n",
      "10 is less than 15\n"
     ]
    }
   ],
   "source": [
    "c=int(input(\"type first value\"))\n",
    "d=int(input(\"type second value\"))\n",
    "if c>=d:\n",
    "    if c>d:\n",
    "        print(str(c) + \" is greater than \" + str(d))\n",
    "    elif c==d:\n",
    "        print(str(c) + \" is equal to \" + str(d))\n",
    "\n",
    "\n",
    "else:\n",
    "    print(str(c) + \" is less than \" + str(d))"
   ]
  },
  {
   "cell_type": "code",
   "execution_count": 22,
   "metadata": {},
   "outputs": [
    {
     "name": "stdout",
     "output_type": "stream",
     "text": [
      "type first value15\n",
      "type second value20\n",
      "15 is less than 20\n"
     ]
    }
   ],
   "source": [
    "e=int(input(\"type first value\"))\n",
    "f=int(input(\"type second value\"))\n",
    "if e<=f:\n",
    "    if e<f:\n",
    "        print(str(e) + \" is less than \" + str(f))\n",
    "    elif e==f:\n",
    "        print(str(e) + \" is equal to \" + str(f))\n",
    "else:\n",
    "    print(str(e) + \" is greater than \" + str(f))\n",
    "    \n"
   ]
  }
 ],
 "metadata": {
  "kernelspec": {
   "display_name": "Python 3",
   "language": "python",
   "name": "python3"
  },
  "language_info": {
   "codemirror_mode": {
    "name": "ipython",
    "version": 3
   },
   "file_extension": ".py",
   "mimetype": "text/x-python",
   "name": "python",
   "nbconvert_exporter": "python",
   "pygments_lexer": "ipython3",
   "version": "3.7.1"
  }
 },
 "nbformat": 4,
 "nbformat_minor": 2
}
