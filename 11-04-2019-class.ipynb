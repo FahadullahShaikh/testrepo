{
 "cells": [
  {
   "cell_type": "code",
   "execution_count": 16,
   "metadata": {},
   "outputs": [],
   "source": [
    "class Car():\n",
    "    def __init__(self, make, model, year):\n",
    "        self.make = make\n",
    "        self.model = model\n",
    "        self.year = year\n",
    "        self.odometer_reading = 0\n",
    "        self.fuel = \"20ltr\"\n",
    "        \n",
    "    def get_descriptive_name(self):\n",
    "        long_name = (f\"{self.make} {self.model} {self.year}\")\n",
    "        return long_name.title()\n",
    "    \n",
    "    def read_odometer(self):\n",
    "        print(f\"this car has {self.odometer_reading} miles on it\")\n",
    "        \n",
    "        #add\n",
    "    def update_meter(self, mileage):\n",
    "        if mileage >= (self.odometer_reading):\n",
    "            self.odometer_reading = mileage\n",
    "            print(\"meter has been updated\")\n",
    "        else:\n",
    "            print(\"you can not roll back\")\n",
    "            \n",
    "    def increament_reading(self, miles):\n",
    "        self.odometer_reading +=miles\n",
    "            \n",
    "    def get_fuel(self):\n",
    "        print(self.fuel)\n",
    "\n"
   ]
  },
  {
   "cell_type": "code",
   "execution_count": 17,
   "metadata": {},
   "outputs": [
    {
     "name": "stdout",
     "output_type": "stream",
     "text": [
      "Audi A4 2016\n",
      "this car has 0 miles on it\n",
      "meter has been updated\n",
      "20ltr\n"
     ]
    }
   ],
   "source": [
    "my_new_car = Car('audi', 'a4', 2016)\n",
    "print(my_new_car.get_descriptive_name())\n",
    "my_new_car.read_odometer()\n",
    "             \n",
    "my_new_car.update_meter(10)\n",
    "my_new_car.get_fuel()"
   ]
  },
  {
   "cell_type": "code",
   "execution_count": 10,
   "metadata": {},
   "outputs": [],
   "source": [
    "class Electric_car(Car):\n",
    "    def __init__(self,make,model,year):\n",
    "        super().__init__(make, model, year)\n",
    "        self.battery = 70\n",
    "        \n",
    "    def get_battery_watt(self):\n",
    "        print(self.battery)\n",
    "        \n",
    "    def get_fuel(self):\n",
    "        print('This car has no fuel tank')\n",
    "        \n",
    "    \n"
   ]
  },
  {
   "cell_type": "code",
   "execution_count": 24,
   "metadata": {},
   "outputs": [
    {
     "name": "stdout",
     "output_type": "stream",
     "text": [
      "70\n",
      "This car has no fuel tank\n",
      "Tesla Latest 2019\n"
     ]
    }
   ],
   "source": [
    "tesla = Electric_car('Tesla', 'Latest',2019)\n",
    "tesla.get_battery_watt()\n",
    "tesla.get_fuel()\n",
    "print(tesla.get_descriptive_name())"
   ]
  },
  {
   "cell_type": "code",
   "execution_count": null,
   "metadata": {},
   "outputs": [],
   "source": []
  }
 ],
 "metadata": {
  "kernelspec": {
   "display_name": "Python 3",
   "language": "python",
   "name": "python3"
  },
  "language_info": {
   "codemirror_mode": {
    "name": "ipython",
    "version": 3
   },
   "file_extension": ".py",
   "mimetype": "text/x-python",
   "name": "python",
   "nbconvert_exporter": "python",
   "pygments_lexer": "ipython3",
   "version": "3.7.1"
  }
 },
 "nbformat": 4,
 "nbformat_minor": 2
}
