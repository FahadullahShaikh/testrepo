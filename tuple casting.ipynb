{
 "cells": [
  {
   "cell_type": "code",
   "execution_count": 1,
   "metadata": {},
   "outputs": [
    {
     "name": "stdout",
     "output_type": "stream",
     "text": [
      "nouman\n"
     ]
    }
   ],
   "source": [
    "friend_dict={1:\"nouman\", 2:\"shakeel\", 3:\"asif\", 4:\"raja\", 5:\"irfan\", 6:\"bakhtiar\"}\n",
    "print(friend_dict[1])"
   ]
  },
  {
   "cell_type": "code",
   "execution_count": 2,
   "metadata": {},
   "outputs": [
    {
     "name": "stdout",
     "output_type": "stream",
     "text": [
      "nouman\n",
      "shakeel\n"
     ]
    }
   ],
   "source": [
    "friend_dict={1:\"nouman\", 2:\"shakeel\", 3:\"asif\", 4:\"raja\", 5:\"irfan\", 6:\"bakhtiar\"}\n",
    "print(friend_dict[1])\n",
    "friend_dict[1]=\"shakeel\"\n",
    "print(friend_dict[1])"
   ]
  },
  {
   "cell_type": "code",
   "execution_count": 4,
   "metadata": {},
   "outputs": [
    {
     "name": "stdout",
     "output_type": "stream",
     "text": [
      "dict_keys([1, 2, 3, 4, 5, 6])\n"
     ]
    }
   ],
   "source": [
    "friend_dict={1:\"nouman\", 2:\"shakeel\", 3:\"asif\", 4:\"raja\", 5:\"irfan\", 6:\"bakhtiar\"}\n",
    "print(friend_dict.keys())"
   ]
  },
  {
   "cell_type": "code",
   "execution_count": 5,
   "metadata": {},
   "outputs": [
    {
     "name": "stdout",
     "output_type": "stream",
     "text": [
      "dict_values(['nouman', 'shakeel', 'asif', 'raja', 'irfan', 'bakhtiar'])\n"
     ]
    }
   ],
   "source": [
    "friend_dict={1:\"nouman\", 2:\"shakeel\", 3:\"asif\", 4:\"raja\", 5:\"irfan\", 6:\"bakhtiar\"}\n",
    "print(friend_dict.values())"
   ]
  },
  {
   "cell_type": "code",
   "execution_count": 7,
   "metadata": {},
   "outputs": [
    {
     "name": "stdout",
     "output_type": "stream",
     "text": [
      "True\n"
     ]
    }
   ],
   "source": [
    "friend_dict={1:\"nouman\", 2:\"shakeel\", 3:\"asif\", 4:\"raja\", 5:\"irfan\", 6:\"bakhtiar\"}\n",
    "print(\"nouman\" in friend_dict.values())"
   ]
  },
  {
   "cell_type": "code",
   "execution_count": 9,
   "metadata": {},
   "outputs": [
    {
     "name": "stdout",
     "output_type": "stream",
     "text": [
      "2\n",
      "4\n",
      "6\n",
      "8\n",
      "10\n",
      "12\n",
      "14\n",
      "16\n",
      "18\n"
     ]
    }
   ],
   "source": [
    "a=range(2,20,2)\n",
    "for i in a:\n",
    "    print(i)"
   ]
  },
  {
   "cell_type": "code",
   "execution_count": 6,
   "metadata": {},
   "outputs": [
    {
     "name": "stdout",
     "output_type": "stream",
     "text": [
      "0\n",
      "1\n",
      "2\n",
      "3\n"
     ]
    }
   ],
   "source": [
    "i=0\n",
    "while i<10:\n",
    "    print(i)\n",
    "    if i==3:\n",
    "        break\n",
    "    i+=1"
   ]
  },
  {
   "cell_type": "code",
   "execution_count": null,
   "metadata": {},
   "outputs": [],
   "source": [
    "i=0\n",
    "while i<10:\n",
    "    \n",
    "    if i==3:\n",
    "        i+=1\n",
    "        continue\n",
    "        \n",
    "        print(i)\n",
    "        if i==5:\n",
    "            break\n",
    "            i+=1"
   ]
  },
  {
   "cell_type": "code",
   "execution_count": null,
   "metadata": {},
   "outputs": [],
   "source": [
    "num=[1,2,3,4,5]\n",
    "for i in num:\n",
    "    if i==3:\n",
    "        print(\"number found\")\n",
    "        break\n",
    "else:\n",
    "    print"
   ]
  }
 ],
 "metadata": {
  "kernelspec": {
   "display_name": "Python 3",
   "language": "python",
   "name": "python3"
  },
  "language_info": {
   "codemirror_mode": {
    "name": "ipython",
    "version": 3
   },
   "file_extension": ".py",
   "mimetype": "text/x-python",
   "name": "python",
   "nbconvert_exporter": "python",
   "pygments_lexer": "ipython3",
   "version": "3.7.1"
  }
 },
 "nbformat": 4,
 "nbformat_minor": 2
}
