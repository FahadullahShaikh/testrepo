{
 "cells": [
  {
   "cell_type": "code",
   "execution_count": 1,
   "metadata": {},
   "outputs": [
    {
     "name": "stdout",
     "output_type": "stream",
     "text": [
      "25\n"
     ]
    }
   ],
   "source": [
    "number = eval(\"10*2+5\")\n",
    "print(number)"
   ]
  },
  {
   "cell_type": "code",
   "execution_count": 2,
   "metadata": {},
   "outputs": [
    {
     "name": "stdout",
     "output_type": "stream",
     "text": [
      "Enter expression5+3*2-5\n",
      "6\n"
     ]
    }
   ],
   "source": [
    "n=eval(input(\"Enter expression\")) #expression like 5+3*2-5\n",
    "print(n)"
   ]
  },
  {
   "cell_type": "code",
   "execution_count": 3,
   "metadata": {},
   "outputs": [
    {
     "name": "stdout",
     "output_type": "stream",
     "text": [
      "Enter your list here['fahad', 'faisal', 'nouman', 'shakeel']\n",
      "<class 'list'>\n",
      "['fahad', 'faisal', 'nouman', 'shakeel']\n"
     ]
    }
   ],
   "source": [
    "mylist = eval(input(\"Enter your list here\"))\n",
    "print(type(mylist))\n",
    "print(mylist)\n"
   ]
  },
  {
   "cell_type": "code",
   "execution_count": 4,
   "metadata": {},
   "outputs": [
    {
     "name": "stdout",
     "output_type": "stream",
     "text": [
      "Enter your tuple here('farooq', 'mukhtiar', 'shahzad')\n",
      "<class 'tuple'>\n",
      "('farooq', 'mukhtiar', 'shahzad')\n"
     ]
    }
   ],
   "source": [
    "mytuple = eval(input('Enter your tuple here'))\n",
    "print(type(mytuple))\n",
    "print(mytuple)"
   ]
  },
  {
   "cell_type": "code",
   "execution_count": 5,
   "metadata": {},
   "outputs": [
    {
     "name": "stdout",
     "output_type": "stream",
     "text": [
      "Enter your dictionary here{1:\"nouman\", 2:\"shakeel\", 3:\"asif\"}\n",
      "<class 'dict'>\n",
      "{1: 'nouman', 2: 'shakeel', 3: 'asif'}\n"
     ]
    }
   ],
   "source": [
    "mydict = eval(input(\"Enter your dictionary here\"))\n",
    "print(type(mydict))\n",
    "print(mydict)\n"
   ]
  },
  {
   "cell_type": "code",
   "execution_count": 9,
   "metadata": {},
   "outputs": [
    {
     "name": "stdout",
     "output_type": "stream",
     "text": [
      "enter('a', 'b', 'c')\n",
      "<class 'str'>\n"
     ]
    }
   ],
   "source": [
    "num=input(\"enter\")\n",
    "print(type(num))\n"
   ]
  },
  {
   "cell_type": "code",
   "execution_count": 11,
   "metadata": {},
   "outputs": [
    {
     "name": "stdout",
     "output_type": "stream",
     "text": [
      "Enter Some String:fahadullah shaikh\n",
      "hkiahs halludahaf\n"
     ]
    }
   ],
   "source": [
    "s = input(\"Enter Some String:\")\n",
    "print(s[::-1])"
   ]
  },
  {
   "cell_type": "code",
   "execution_count": 18,
   "metadata": {},
   "outputs": [
    {
     "name": "stdout",
     "output_type": "stream",
     "text": [
      "Enter Some String:fahadullah shaikh\n",
      "hkiahs halludahaf\n"
     ]
    }
   ],
   "source": [
    "s = input(\"Enter Some String:\")\n",
    "print(''.join(reversed(s)))"
   ]
  },
  {
   "cell_type": "code",
   "execution_count": 20,
   "metadata": {},
   "outputs": [
    {
     "name": "stdout",
     "output_type": "stream",
     "text": [
      "[50, 40, 30, 20, 10]\n",
      "[50, 40, 30, 20, 10, 'nouman', 'shakeel', 'fahad']\n",
      "['nouman', 'shakeel', 'fahad']\n"
     ]
    }
   ],
   "source": [
    "mylist=[10,20,30,40,50]\n",
    "mylist.reverse()\n",
    "print(mylist)\n",
    "\n",
    "\n",
    "l2=['nouman', 'shakeel', 'fahad']\n",
    "mylist.extend(l2)\n",
    "print(mylist)\n",
    "\n",
    "print(l2)"
   ]
  },
  {
   "cell_type": "code",
   "execution_count": null,
   "metadata": {},
   "outputs": [],
   "source": []
  }
 ],
 "metadata": {
  "kernelspec": {
   "display_name": "Python 3",
   "language": "python",
   "name": "python3"
  },
  "language_info": {
   "codemirror_mode": {
    "name": "ipython",
    "version": 3
   },
   "file_extension": ".py",
   "mimetype": "text/x-python",
   "name": "python",
   "nbconvert_exporter": "python",
   "pygments_lexer": "ipython3",
   "version": "3.7.1"
  }
 },
 "nbformat": 4,
 "nbformat_minor": 2
}
