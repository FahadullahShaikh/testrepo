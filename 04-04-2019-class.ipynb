{
 "cells": [
  {
   "cell_type": "code",
   "execution_count": 7,
   "metadata": {},
   "outputs": [
    {
     "name": "stdout",
     "output_type": "stream",
     "text": [
      "1\n",
      "2\n",
      "3\n",
      "4\n",
      "5\n",
      "6\n",
      "7\n",
      "8\n",
      "9\n",
      "10\n",
      "10\n"
     ]
    }
   ],
   "source": [
    "for x in range(1,11):\n",
    "    print(x)\n",
    "print(x)"
   ]
  },
  {
   "cell_type": "code",
   "execution_count": 8,
   "metadata": {},
   "outputs": [
    {
     "name": "stdout",
     "output_type": "stream",
     "text": [
      "10\n"
     ]
    }
   ],
   "source": [
    "print(x)"
   ]
  },
  {
   "cell_type": "code",
   "execution_count": 16,
   "metadata": {},
   "outputs": [
    {
     "name": "stdout",
     "output_type": "stream",
     "text": [
      "['fahad', 'shakeel', 'nouman', 's', 'h', 'a', 'h', 'z', 'a', 'd']\n"
     ]
    }
   ],
   "source": [
    "mylist=['fahad','shakeel','nouman']\n",
    "mylist.extend('shahzad')\n",
    "print(mylist)"
   ]
  },
  {
   "cell_type": "code",
   "execution_count": 14,
   "metadata": {},
   "outputs": [
    {
     "data": {
      "text/plain": [
       "['pakistan', 'e']"
      ]
     },
     "execution_count": 14,
     "metadata": {},
     "output_type": "execute_result"
    }
   ],
   "source": [
    "mylist[:]"
   ]
  },
  {
   "cell_type": "code",
   "execution_count": 5,
   "metadata": {},
   "outputs": [
    {
     "data": {
      "text/plain": [
       "['fahad', 'shaikh']"
      ]
     },
     "execution_count": 5,
     "metadata": {},
     "output_type": "execute_result"
    }
   ],
   "source": [
    "name=\"fahad shaikh\"\n",
    "name.split(' ')\n"
   ]
  },
  {
   "cell_type": "code",
   "execution_count": 7,
   "metadata": {},
   "outputs": [
    {
     "name": "stdout",
     "output_type": "stream",
     "text": [
      "enter your friends name here nouman\n",
      "my friend name is nouman\n"
     ]
    }
   ],
   "source": [
    "#.format function\n",
    "friend = input(\"enter your friends name here \")\n",
    "print(\"my friend name is {}\" .format(friend))"
   ]
  },
  {
   "cell_type": "code",
   "execution_count": 8,
   "metadata": {},
   "outputs": [
    {
     "name": "stdout",
     "output_type": "stream",
     "text": [
      "my name is fahad and caste is shaikh\n"
     ]
    }
   ],
   "source": [
    "#second way to use format function\n",
    "name='fahad'\n",
    "caste='shaikh'\n",
    "print(f\"my name is {name} and caste is {caste}\")"
   ]
  },
  {
   "cell_type": "code",
   "execution_count": 14,
   "metadata": {},
   "outputs": [
    {
     "name": "stdout",
     "output_type": "stream",
     "text": [
      "my friends are nouman and shakeel\n"
     ]
    }
   ],
   "source": [
    "#dict in format function\n",
    "name={'a':'nouman', 'b':'shakeel'}\n",
    "print(f\"my friends are {name['a']} and {name['b']}\")"
   ]
  },
  {
   "cell_type": "code",
   "execution_count": 19,
   "metadata": {},
   "outputs": [
    {
     "name": "stdout",
     "output_type": "stream",
     "text": [
      "[('author', 'topic', 'pages'), ('fahad', 'deep learning', 300), ('shahzad', 'server', 205)]\n",
      "Author is author\n",
      "Author is fahad\n",
      "Author is shahzad\n"
     ]
    }
   ],
   "source": [
    "#calss activity\n",
    "data=[('author', 'topic', 'pages'), ('fahad', 'deep learning', 300), ('shahzad', 'server', 205)]\n",
    "print(data)\n",
    "for d in data:\n",
    "    print(f\"Author is {d[0]}\")"
   ]
  },
  {
   "cell_type": "code",
   "execution_count": 21,
   "metadata": {},
   "outputs": [
    {
     "name": "stdout",
     "output_type": "stream",
     "text": [
      "author topic pages\n",
      "fahad deep learning 300\n",
      "shahzad server 205\n"
     ]
    }
   ],
   "source": [
    "for author, topic, page in data:\n",
    "    print(f\"{author} {topic} {page}\")"
   ]
  },
  {
   "cell_type": "code",
   "execution_count": 22,
   "metadata": {},
   "outputs": [
    {
     "name": "stdout",
     "output_type": "stream",
     "text": [
      "author     topic                          -----pages\n",
      "fahad      deep learning                  -------300\n",
      "shahzad    server                         -------205\n"
     ]
    }
   ],
   "source": [
    "for author, topic, pages in data:\n",
    "    print(f\"{author:{10}} {topic:{30}} {pages:->{10}}\")"
   ]
  },
  {
   "cell_type": "code",
   "execution_count": null,
   "metadata": {},
   "outputs": [],
   "source": []
  }
 ],
 "metadata": {
  "kernelspec": {
   "display_name": "Python 3",
   "language": "python",
   "name": "python3"
  },
  "language_info": {
   "codemirror_mode": {
    "name": "ipython",
    "version": 3
   },
   "file_extension": ".py",
   "mimetype": "text/x-python",
   "name": "python",
   "nbconvert_exporter": "python",
   "pygments_lexer": "ipython3",
   "version": "3.7.1"
  }
 },
 "nbformat": 4,
 "nbformat_minor": 2
}
