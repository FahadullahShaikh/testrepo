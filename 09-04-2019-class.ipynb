{
 "cells": [
  {
   "cell_type": "code",
   "execution_count": 6,
   "metadata": {},
   "outputs": [
    {
     "name": "stdout",
     "output_type": "stream",
     "text": [
      "my first name is fahad and my last name is shaikh\n"
     ]
    }
   ],
   "source": [
    "fname='fahad'\n",
    "lname= 'shaikh'\n",
    "print('my first name is {} and my last name is {}'.format(fname,lname))"
   ]
  },
  {
   "cell_type": "code",
   "execution_count": 7,
   "metadata": {},
   "outputs": [
    {
     "name": "stdout",
     "output_type": "stream",
     "text": [
      "my name is fahad shaikh\n"
     ]
    }
   ],
   "source": [
    "print(f\"my name is {fname} {lname}\")"
   ]
  },
  {
   "cell_type": "code",
   "execution_count": 10,
   "metadata": {},
   "outputs": [
    {
     "name": "stdout",
     "output_type": "stream",
     "text": [
      "my friends are nouman and shakeel\n"
     ]
    }
   ],
   "source": [
    "#dictionary\n",
    "mydict={'a':'nouman', 'b':'shakeel'}\n",
    "print(f\"my friends are {mydict['a']} and {mydict['b']}\")"
   ]
  },
  {
   "cell_type": "code",
   "execution_count": 4,
   "metadata": {},
   "outputs": [
    {
     "name": "stdout",
     "output_type": "stream",
     "text": [
      "enter main string here hgghfgfahhahjhjahjhjajhjajhjhajhjha\n",
      "enter your substring here a\n",
      "found at the position  7\n",
      "found at the position  10\n",
      "found at the position  15\n",
      "found at the position  20\n",
      "found at the position  24\n",
      "found at the position  29\n",
      "found at the position  34\n"
     ]
    }
   ],
   "source": [
    "s=input('enter main string here ')\n",
    "subs=input('enter your substring here ')\n",
    "flag=False\n",
    "pos=-1\n",
    "n=len(s)\n",
    "while True:\n",
    "    pos=s.find(subs,pos+1,n)\n",
    "    if pos==-1:\n",
    "        break\n",
    "    print('found at the position ',pos)\n",
    "    flag=True\n",
    "if flag==False:\n",
    "    print('not found')\n",
    "        \n",
    "    \n"
   ]
  },
  {
   "cell_type": "code",
   "execution_count": 7,
   "metadata": {},
   "outputs": [],
   "source": [
    "class Patient():\n",
    "    def __init__(self,name,last_name,age,bemari):\n",
    "        ###Attributes#####\n",
    "        self.name = name\n",
    "        self.last_name = last_name\n",
    "        self.age = age\n",
    "        self.bemari = bemari\n",
    "        \n",
    "    def walk():\n",
    "            pass\n",
    "        \n",
    "    def food(self):\n",
    "            print(f\"{self.name} is eating food\")\n",
    "        \n",
    "    def medicine(self):\n",
    "            print(f\"{self.name} is taking medicine\")\n",
    "        "
   ]
  },
  {
   "cell_type": "code",
   "execution_count": 8,
   "metadata": {},
   "outputs": [
    {
     "name": "stdout",
     "output_type": "stream",
     "text": [
      "fahad\n",
      "shaikh\n"
     ]
    }
   ],
   "source": [
    "p1 = Patient('fahad', 'shaikh', 26 , 'nothing')\n",
    "print(p1.name)\n",
    "print(p1.last_name)"
   ]
  },
  {
   "cell_type": "code",
   "execution_count": 9,
   "metadata": {},
   "outputs": [
    {
     "name": "stdout",
     "output_type": "stream",
     "text": [
      "shahzad is eating food\n",
      "shahzad is taking medicine\n",
      "shahzad\n"
     ]
    }
   ],
   "source": [
    "p2 = Patient('shahzad', 'shaikh', 25, 'nothing')\n",
    "p2.food()\n",
    "p2.medicine()\n",
    "print(p2.name)\n"
   ]
  },
  {
   "cell_type": "code",
   "execution_count": 10,
   "metadata": {},
   "outputs": [
    {
     "name": "stdout",
     "output_type": "stream",
     "text": [
      "asif\n"
     ]
    }
   ],
   "source": [
    "p3 = Patient('asif', 'abc' , 20 , 'nothing')\n",
    "print(p3.name)"
   ]
  },
  {
   "cell_type": "code",
   "execution_count": 11,
   "metadata": {},
   "outputs": [],
   "source": [
    "def sayIfminor(name,last_name,age):\n",
    "    if age<21:\n",
    "        print(f\"{name} {last_name} is minor\")\n",
    "    else:\n",
    "        print(f\"{name} {last_name} is not minor\")\n",
    "        "
   ]
  },
  {
   "cell_type": "code",
   "execution_count": 12,
   "metadata": {},
   "outputs": [
    {
     "name": "stdout",
     "output_type": "stream",
     "text": [
      "asif abc is minor\n"
     ]
    }
   ],
   "source": [
    "sayIfminor(p3.name, p3.last_name,p3.age)"
   ]
  },
  {
   "cell_type": "code",
   "execution_count": 13,
   "metadata": {},
   "outputs": [
    {
     "data": {
      "text/plain": [
       "'fahad'"
      ]
     },
     "execution_count": 13,
     "metadata": {},
     "output_type": "execute_result"
    }
   ],
   "source": [
    "p1.name"
   ]
  },
  {
   "cell_type": "code",
   "execution_count": 14,
   "metadata": {},
   "outputs": [
    {
     "data": {
      "text/plain": [
       "'sumair'"
      ]
     },
     "execution_count": 14,
     "metadata": {},
     "output_type": "execute_result"
    }
   ],
   "source": [
    "p1.name=\"sumair\"\n",
    "p1.name"
   ]
  },
  {
   "cell_type": "code",
   "execution_count": 21,
   "metadata": {},
   "outputs": [
    {
     "name": "stdout",
     "output_type": "stream",
     "text": [
      "Tommy is now sitting. \n",
      "tommy is rolling\n"
     ]
    }
   ],
   "source": [
    "class Dog():\n",
    "   # \"\"\" A Simple attempt to model a dog.\"\"\"\n",
    "    def __init__(self,name,age):\n",
    "        #\"\"\"Initialize name and age attributes. \"\"\"\n",
    "        self.name = name\n",
    "        self.age = age\n",
    "        \n",
    "    def sit(self):\n",
    "       # \"\"\"Simulate a dog sitting in response to a command.\"\"\"\n",
    "        print(self.name.title() + \" is now sitting. \")\n",
    "        \n",
    "    def roll_over(self):\n",
    "        print(f\"{self.name} is rolling\")\n",
    "dog1 = Dog('tommy',20)\n",
    "dog1.sit()\n",
    "dog1.roll_over()"
   ]
  },
  {
   "cell_type": "code",
   "execution_count": 40,
   "metadata": {},
   "outputs": [
    {
     "name": "stdout",
     "output_type": "stream",
     "text": [
      "restaurant name is PC\n",
      "PC is open now \n"
     ]
    }
   ],
   "source": [
    "class Restaurant():\n",
    "    def __init__(self,restaurant_name,cuisine_type):\n",
    "        self.restaurant_name = restaurant_name\n",
    "        self.cuisine_type = cuisine_type\n",
    "        \n",
    "        \n",
    "    def describe_restaurant(self):\n",
    "        print(f\"restaurant name is {self.restaurant_name}\")\n",
    "        \n",
    "    def open_restaurant(self):\n",
    "        print(f\"{self.restaurant_name} is open now \")\n",
    "        \n",
    "rest = Restaurant(\"PC\", \"Flow\")\n",
    "rest.describe_restaurant()\n",
    "rest.open_restaurant()\n"
   ]
  },
  {
   "cell_type": "code",
   "execution_count": 42,
   "metadata": {},
   "outputs": [
    {
     "ename": "AttributeError",
     "evalue": "'Branch1' object has no attribute 'number_served'",
     "output_type": "error",
     "traceback": [
      "\u001b[1;31m---------------------------------------------------------------------------\u001b[0m",
      "\u001b[1;31mAttributeError\u001b[0m                            Traceback (most recent call last)",
      "\u001b[1;32m<ipython-input-42-74526a8e584b>\u001b[0m in \u001b[0;36m<module>\u001b[1;34m\u001b[0m\n\u001b[0;32m      9\u001b[0m \u001b[1;33m\u001b[0m\u001b[0m\n\u001b[0;32m     10\u001b[0m \u001b[0muser1\u001b[0m \u001b[1;33m=\u001b[0m \u001b[0mBranch1\u001b[0m\u001b[1;33m(\u001b[0m\u001b[1;34m\"kfc\"\u001b[0m\u001b[1;33m,\u001b[0m \u001b[1;34m\"flow\"\u001b[0m\u001b[1;33m)\u001b[0m\u001b[1;33m\u001b[0m\u001b[1;33m\u001b[0m\u001b[0m\n\u001b[1;32m---> 11\u001b[1;33m \u001b[0muser1\u001b[0m\u001b[1;33m.\u001b[0m\u001b[0mset_number_served\u001b[0m\u001b[1;33m(\u001b[0m\u001b[1;33m)\u001b[0m\u001b[1;33m\u001b[0m\u001b[1;33m\u001b[0m\u001b[0m\n\u001b[0m",
      "\u001b[1;32m<ipython-input-42-74526a8e584b>\u001b[0m in \u001b[0;36mset_number_served\u001b[1;34m(self)\u001b[0m\n\u001b[0;32m      5\u001b[0m \u001b[1;33m\u001b[0m\u001b[0m\n\u001b[0;32m      6\u001b[0m     \u001b[1;32mdef\u001b[0m \u001b[0mset_number_served\u001b[0m\u001b[1;33m(\u001b[0m\u001b[0mself\u001b[0m\u001b[1;33m)\u001b[0m\u001b[1;33m:\u001b[0m\u001b[1;33m\u001b[0m\u001b[1;33m\u001b[0m\u001b[0m\n\u001b[1;32m----> 7\u001b[1;33m         \u001b[0mprint\u001b[0m\u001b[1;33m(\u001b[0m\u001b[0mself\u001b[0m\u001b[1;33m.\u001b[0m\u001b[0mnumber_served\u001b[0m\u001b[1;33m)\u001b[0m\u001b[1;33m\u001b[0m\u001b[1;33m\u001b[0m\u001b[0m\n\u001b[0m\u001b[0;32m      8\u001b[0m \u001b[1;33m\u001b[0m\u001b[0m\n\u001b[0;32m      9\u001b[0m \u001b[1;33m\u001b[0m\u001b[0m\n",
      "\u001b[1;31mAttributeError\u001b[0m: 'Branch1' object has no attribute 'number_served'"
     ]
    }
   ],
   "source": [
    "class Branch1(Restaurant):\n",
    "    def __init__(self,restaurant_name,cuisine_type):\n",
    "        super().__init__(restaurant_name,cuisine_type)\n",
    "        self.number_serverd = 0\n",
    "            \n",
    "    def set_number_served(self):\n",
    "        print(self.number_served)\n",
    "            \n",
    "            \n",
    "user1 = Branch1(\"kfc\", \"flow\")\n",
    "user1.set_number_served()\n"
   ]
  },
  {
   "cell_type": "code",
   "execution_count": 43,
   "metadata": {},
   "outputs": [
    {
     "name": "stdout",
     "output_type": "stream",
     "text": [
      "Audi A4 2016\n",
      "this car has 0 miles on it\n",
      "meter has been updated\n"
     ]
    }
   ],
   "source": [
    "class Car():\n",
    "    def __init__(self, make, model, year):\n",
    "        self.make = make\n",
    "        self.model = model\n",
    "        self.year = year\n",
    "        self.odometer_reading = 0\n",
    "        self.fuel = \"20ltr\"\n",
    "        \n",
    "    def get_descriptive_name(self):\n",
    "        long_name = (f\"{self.make} {self.model} {self.year}\")\n",
    "        return long_name.title()\n",
    "    \n",
    "    def read_odometer(self):\n",
    "        print(f\"this car has {self.odometer_reading} miles on it\")\n",
    "        \n",
    "        #add\n",
    "    def update_meter(self, mileage):\n",
    "        if mileage >= (self.odometer_reading):\n",
    "            self.odometer_reading = mileage\n",
    "            print(\"meter has been updated\")\n",
    "        else:\n",
    "            print(\"you can not roll back\")\n",
    "            \n",
    "        def increament_reading(self, miles):\n",
    "            self.odometer_reading +=miles\n",
    "            \n",
    "        def get_fuel(self):\n",
    "            print(self.fuel)\n",
    "        \n",
    "my_new_car = Car('audi', 'a4', 2016)\n",
    "print(my_new_car.get_descriptive_name())\n",
    "my_new_car.read_odometer()\n",
    "             \n",
    "my_new_car.update_meter(10)"
   ]
  },
  {
   "cell_type": "code",
   "execution_count": 17,
   "metadata": {},
   "outputs": [],
   "source": [
    "class User():\n",
    "    def __init__(self,first_name,last_name):\n",
    "        self.first_name = first_name\n",
    "        self.last_name = last_name\n",
    "        self.batch = \"2019\"\n",
    "        self.programe = \"BS\"\n",
    "        \n",
    "    def describe_user(self):\n",
    "        print(self.first_name,self.last_name,self.batch,self.programe)\n",
    "        \n",
    "    def greet_user(self):\n",
    "        print(\"welcome\", self.first_name, self.last_name)\n",
    "        \n",
    "        "
   ]
  },
  {
   "cell_type": "code",
   "execution_count": 18,
   "metadata": {},
   "outputs": [
    {
     "name": "stdout",
     "output_type": "stream",
     "text": [
      "fahad shaikh 2019 BS\n",
      "welcome fahad shaikh\n"
     ]
    }
   ],
   "source": [
    "std1 = User(\"fahad\",\"shaikh\")\n",
    "std1.describe_user()\n",
    "std1.greet_user()"
   ]
  },
  {
   "cell_type": "code",
   "execution_count": 19,
   "metadata": {},
   "outputs": [
    {
     "name": "stdout",
     "output_type": "stream",
     "text": [
      "umair Afzal 2019 BS\n",
      "welcome umair Afzal\n"
     ]
    }
   ],
   "source": [
    "std2 = User(\"umair\",\"Afzal\")\n",
    "std2.describe_user()\n",
    "std2.greet_user()"
   ]
  },
  {
   "cell_type": "code",
   "execution_count": null,
   "metadata": {},
   "outputs": [],
   "source": []
  }
 ],
 "metadata": {
  "kernelspec": {
   "display_name": "Python 3",
   "language": "python",
   "name": "python3"
  },
  "language_info": {
   "codemirror_mode": {
    "name": "ipython",
    "version": 3
   },
   "file_extension": ".py",
   "mimetype": "text/x-python",
   "name": "python",
   "nbconvert_exporter": "python",
   "pygments_lexer": "ipython3",
   "version": "3.7.1"
  }
 },
 "nbformat": 4,
 "nbformat_minor": 2
}
