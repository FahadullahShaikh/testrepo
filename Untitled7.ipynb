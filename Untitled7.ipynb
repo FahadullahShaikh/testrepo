{
 "cells": [
  {
   "cell_type": "code",
   "execution_count": 3,
   "metadata": {},
   "outputs": [
    {
     "data": {
      "text/plain": [
       "list"
      ]
     },
     "execution_count": 3,
     "metadata": {},
     "output_type": "execute_result"
    }
   ],
   "source": [
    "abc=['fahad','shakeel','raja','nouman']\n",
    "type(abc)\n",
    "\n"
   ]
  },
  {
   "cell_type": "code",
   "execution_count": 7,
   "metadata": {},
   "outputs": [
    {
     "name": "stdout",
     "output_type": "stream",
     "text": [
      "20\n",
      "25\n",
      "78\n",
      "96\n",
      "37\n",
      "12\n"
     ]
    },
    {
     "ename": "TypeError",
     "evalue": "'bytes' object does not support item assignment",
     "output_type": "error",
     "traceback": [
      "\u001b[1;31m---------------------------------------------------------------------------\u001b[0m",
      "\u001b[1;31mTypeError\u001b[0m                                 Traceback (most recent call last)",
      "\u001b[1;32m<ipython-input-7-9c2a1fba4dc5>\u001b[0m in \u001b[0;36m<module>\u001b[1;34m\u001b[0m\n\u001b[0;32m      4\u001b[0m     \u001b[0mprint\u001b[0m\u001b[1;33m(\u001b[0m\u001b[0mi\u001b[0m\u001b[1;33m)\u001b[0m\u001b[1;33m\u001b[0m\u001b[1;33m\u001b[0m\u001b[0m\n\u001b[0;32m      5\u001b[0m \u001b[0mtype\u001b[0m\u001b[1;33m(\u001b[0m\u001b[0mx\u001b[0m\u001b[1;33m)\u001b[0m\u001b[1;33m\u001b[0m\u001b[1;33m\u001b[0m\u001b[0m\n\u001b[1;32m----> 6\u001b[1;33m \u001b[0mx\u001b[0m\u001b[1;33m[\u001b[0m\u001b[1;36m1\u001b[0m\u001b[1;33m]\u001b[0m\u001b[1;33m=\u001b[0m\u001b[1;36m100\u001b[0m\u001b[1;33m\u001b[0m\u001b[1;33m\u001b[0m\u001b[0m\n\u001b[0m\u001b[0;32m      7\u001b[0m \u001b[1;32mfor\u001b[0m \u001b[0mj\u001b[0m \u001b[1;32min\u001b[0m \u001b[0mx\u001b[0m\u001b[1;33m:\u001b[0m\u001b[1;33m\u001b[0m\u001b[1;33m\u001b[0m\u001b[0m\n\u001b[0;32m      8\u001b[0m     \u001b[0mprint\u001b[0m\u001b[1;33m(\u001b[0m\u001b[0mj\u001b[0m\u001b[1;33m)\u001b[0m\u001b[1;33m\u001b[0m\u001b[1;33m\u001b[0m\u001b[0m\n",
      "\u001b[1;31mTypeError\u001b[0m: 'bytes' object does not support item assignment"
     ]
    }
   ],
   "source": [
    "abc=[20,25,78,96,37,12]\n",
    "x=bytes(abc)\n",
    "for i in x:\n",
    "    print(i)\n",
    "type(x)\n",
    "x[1]=100\n",
    "for j in x:\n",
    "    print(j)"
   ]
  },
  {
   "cell_type": "code",
   "execution_count": 8,
   "metadata": {},
   "outputs": [
    {
     "name": "stdout",
     "output_type": "stream",
     "text": [
      "20\n",
      "25\n",
      "78\n",
      "96\n",
      "37\n",
      "12\n",
      "20\n",
      "100\n",
      "78\n",
      "96\n",
      "37\n",
      "12\n"
     ]
    }
   ],
   "source": [
    "abc=[20,25,78,96,37,12]\n",
    "x=bytearray(abc)\n",
    "for i in x:\n",
    "    print(i)\n",
    "type(x)\n",
    "x[1]=100\n",
    "for j in x:\n",
    "    print(j)"
   ]
  },
  {
   "cell_type": "code",
   "execution_count": 5,
   "metadata": {},
   "outputs": [
    {
     "name": "stdout",
     "output_type": "stream",
     "text": [
      "1\n",
      "3\n",
      "5\n",
      "7\n",
      "9\n"
     ]
    }
   ],
   "source": [
    "#value = int(input(\"type number here\"))\n",
    "for value in range(10):\n",
    "    if value%2==0:\n",
    "        continue\n",
    "    print(value)\n"
   ]
  },
  {
   "cell_type": "code",
   "execution_count": 9,
   "metadata": {},
   "outputs": [
    {
     "name": "stdout",
     "output_type": "stream",
     "text": [
      "10\n",
      "20\n",
      "30\n",
      "40\n",
      "50\n",
      "60\n",
      "70\n",
      "80\n",
      "90\n",
      "we can not arrange  100\n"
     ]
    }
   ],
   "source": [
    "item=[10,20,30,40,50,60,70,80,90,100]\n",
    "for order in item:\n",
    "    if order>=100:\n",
    "        print(\"we can not arrange \",order)\n",
    "        break\n",
    "    print(order)\n",
    "else:\n",
    "    print(\"orders can be arranged\")"
   ]
  },
  {
   "cell_type": "code",
   "execution_count": 2,
   "metadata": {},
   "outputs": [
    {
     "name": "stdout",
     "output_type": "stream",
     "text": [
      "Enter number:5\n",
      "The sum of first 5 numbers is : 15\n"
     ]
    }
   ],
   "source": [
    "n=int(input(\"Enter number:\"))\n",
    "sum=0\n",
    "i=1  \n",
    "while i<=n: \n",
    "    sum=sum+i \n",
    "    i=i+1 \n",
    "print(\"The sum of first\",n,\"numbers is :\",sum)"
   ]
  },
  {
   "cell_type": "code",
   "execution_count": 3,
   "metadata": {},
   "outputs": [
    {
     "name": "stdout",
     "output_type": "stream",
     "text": [
      "Enter Name:fahad\n",
      "Enter Name:shaikh\n",
      "Enter Name:faisal\n",
      "Enter Name:durga\n",
      "Thanks for confirmation\n"
     ]
    }
   ],
   "source": [
    "name=\"\"\n",
    "while name!=\"durga\": \n",
    "    name=input(\"Enter Name:\") \n",
    "print(\"Thanks for confirmation\")"
   ]
  },
  {
   "cell_type": "code",
   "execution_count": null,
   "metadata": {},
   "outputs": [],
   "source": [
    "i=0; \n",
    "while  : \n",
    "    i=i+1; \n",
    "    print(\"Hello\",i)"
   ]
  },
  {
   "cell_type": "code",
   "execution_count": 2,
   "metadata": {},
   "outputs": [
    {
     "name": "stdout",
     "output_type": "stream",
     "text": [
      "20\n",
      "30\n",
      "40\n",
      "50\n",
      "60\n",
      "90\n",
      "this order can not be delievered  110\n"
     ]
    }
   ],
   "source": [
    "order=[20,30,40,50,60,90,110]\n",
    "for item in order:\n",
    "    if item>100:\n",
    "        print(\"this order can not be delievered \",item)\n",
    "        break\n",
    "    print(item)"
   ]
  },
  {
   "cell_type": "code",
   "execution_count": 3,
   "metadata": {},
   "outputs": [
    {
     "name": "stdout",
     "output_type": "stream",
     "text": [
      "10\n",
      "this is not valid number  11\n",
      "this is not valid number  12\n",
      "20\n",
      "30\n",
      "40\n",
      "50\n",
      "60\n"
     ]
    }
   ],
   "source": [
    "order=[10,11,12,20,30,40,50,60]\n",
    "for item in order:\n",
    "    if item>10 and item<20:\n",
    "        print(\"this is not valid number \", item)\n",
    "        continue\n",
    "    print(item)"
   ]
  },
  {
   "cell_type": "code",
   "execution_count": 3,
   "metadata": {},
   "outputs": [
    {
     "name": "stdout",
     "output_type": "stream",
     "text": [
      "this is else part\n"
     ]
    }
   ],
   "source": [
    "num=[20,50,40,90,63,25,75,14]\n",
    "for n in num:\n",
    "    if n>100:\n",
    "        print(\"limit is below 100\")\n",
    "        break\n",
    "        print(n)\n",
    "else:\n",
    "    print(\"this is else part\")"
   ]
  },
  {
   "cell_type": "code",
   "execution_count": 6,
   "metadata": {},
   "outputs": [
    {
     "name": "stdout",
     "output_type": "stream",
     "text": [
      "fahad\n"
     ]
    },
    {
     "ename": "NameError",
     "evalue": "name 'name' is not defined",
     "output_type": "error",
     "traceback": [
      "\u001b[1;31m---------------------------------------------------------------------------\u001b[0m",
      "\u001b[1;31mNameError\u001b[0m                                 Traceback (most recent call last)",
      "\u001b[1;32m<ipython-input-6-6b297a4a3082>\u001b[0m in \u001b[0;36m<module>\u001b[1;34m\u001b[0m\n\u001b[0;32m      2\u001b[0m \u001b[0mprint\u001b[0m\u001b[1;33m(\u001b[0m\u001b[0mname\u001b[0m\u001b[1;33m)\u001b[0m\u001b[1;33m\u001b[0m\u001b[1;33m\u001b[0m\u001b[0m\n\u001b[0;32m      3\u001b[0m \u001b[1;32mdel\u001b[0m \u001b[0mname\u001b[0m\u001b[1;33m\u001b[0m\u001b[1;33m\u001b[0m\u001b[0m\n\u001b[1;32m----> 4\u001b[1;33m \u001b[0mprint\u001b[0m\u001b[1;33m(\u001b[0m\u001b[0mname\u001b[0m\u001b[1;33m)\u001b[0m\u001b[1;33m\u001b[0m\u001b[1;33m\u001b[0m\u001b[0m\n\u001b[0m",
      "\u001b[1;31mNameError\u001b[0m: name 'name' is not defined"
     ]
    }
   ],
   "source": [
    "name=\"fahad\"\n",
    "print(name)\n",
    "del name\n",
    "print(name)"
   ]
  },
  {
   "cell_type": "code",
   "execution_count": 7,
   "metadata": {},
   "outputs": [
    {
     "name": "stdout",
     "output_type": "stream",
     "text": [
      "Enter Some String:fahadshaikh\n",
      "The character present at positive index 0 and at nEgative index -11 is f\n",
      "The character present at positive index 1 and at nEgative index -10 is a\n",
      "The character present at positive index 2 and at nEgative index -9 is h\n",
      "The character present at positive index 3 and at nEgative index -8 is a\n",
      "The character present at positive index 4 and at nEgative index -7 is d\n",
      "The character present at positive index 5 and at nEgative index -6 is s\n",
      "The character present at positive index 6 and at nEgative index -5 is h\n",
      "The character present at positive index 7 and at nEgative index -4 is a\n",
      "The character present at positive index 8 and at nEgative index -3 is i\n",
      "The character present at positive index 9 and at nEgative index -2 is k\n",
      "The character present at positive index 10 and at nEgative index -1 is h\n"
     ]
    }
   ],
   "source": [
    "s=input(\"Enter Some String:\") \n",
    "i=0\n",
    "for x in s: \n",
    "    print(\"The character present at positive index {} and at nEgative index {} is {}\".format(i,i-len(s),x)) \n",
    "    i=i+1"
   ]
  },
  {
   "cell_type": "code",
   "execution_count": 12,
   "metadata": {},
   "outputs": [
    {
     "name": "stdout",
     "output_type": "stream",
     "text": [
      "fahadullahshaikh\n",
      "16\n"
     ]
    }
   ],
   "source": [
    "name=\"fahadullahshaikh\"\n",
    "print(name[::1])\n",
    "print(len(name))"
   ]
  },
  {
   "cell_type": "code",
   "execution_count": 17,
   "metadata": {},
   "outputs": [
    {
     "name": "stdout",
     "output_type": "stream",
     "text": [
      "forward direction \n",
      "pytho is very easy language to learn \n",
      " backward direction\n",
      "nrael ot egaugnal ysae yrev si ohtyp"
     ]
    }
   ],
   "source": [
    "s=\"pytho is very easy language to learn\"\n",
    "n= len(s)\n",
    "i=0\n",
    "print(\"forward direction \")\n",
    "while i<n:\n",
    "    print(s[i], end='')\n",
    "    i+=1\n",
    "print(\" \\n backward direction\")\n",
    "i=-1\n",
    "while i>=-n:\n",
    "    print(s[i],end='')\n",
    "    i=i-1\n"
   ]
  },
  {
   "cell_type": "code",
   "execution_count": 18,
   "metadata": {},
   "outputs": [
    {
     "data": {
      "text/plain": [
       "True"
      ]
     },
     "execution_count": 18,
     "metadata": {},
     "output_type": "execute_result"
    }
   ],
   "source": [
    "name=\"fahad\"\n",
    "n=\"fahad\"\n",
    "name is n"
   ]
  },
  {
   "cell_type": "code",
   "execution_count": 23,
   "metadata": {},
   "outputs": [
    {
     "name": "stdout",
     "output_type": "stream",
     "text": [
      "True\n",
      "False\n",
      "768911103944\n",
      "768908568328\n",
      "True\n"
     ]
    }
   ],
   "source": [
    "a=['a','b','c','d']\n",
    "b=['a','b','c','d']\n",
    "print(a==b)\n",
    "print(a is b)\n",
    "print(id(a))\n",
    "print(id(b))\n",
    "fahad=\"shaikh\"\n",
    "faisal='shaikh'\n",
    "print(fahad is faisal)"
   ]
  },
  {
   "cell_type": "code",
   "execution_count": null,
   "metadata": {},
   "outputs": [],
   "source": []
  }
 ],
 "metadata": {
  "kernelspec": {
   "display_name": "Python 3",
   "language": "python",
   "name": "python3"
  },
  "language_info": {
   "codemirror_mode": {
    "name": "ipython",
    "version": 3
   },
   "file_extension": ".py",
   "mimetype": "text/x-python",
   "name": "python",
   "nbconvert_exporter": "python",
   "pygments_lexer": "ipython3",
   "version": "3.7.1"
  }
 },
 "nbformat": 4,
 "nbformat_minor": 2
}
