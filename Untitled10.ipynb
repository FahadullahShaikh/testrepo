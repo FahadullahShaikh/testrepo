{
 "cells": [
  {
   "cell_type": "code",
   "execution_count": 3,
   "metadata": {},
   "outputs": [
    {
     "name": "stdout",
     "output_type": "stream",
     "text": [
      "Enter your city Name:Hyderabad  \n",
      "Hello Hyderbadi..Adab\n"
     ]
    }
   ],
   "source": [
    "city=input(\"Enter your city Name:\")\n",
    "scity=city.strip()\n",
    "if scity=='Hyderabad': \n",
    "    print(\"Hello Hyderbadi..Adab\")\n",
    "elif scity=='Chennai':\n",
    "    print(\"Hello Madrasi...Vanakkam\")\n",
    "elif scity==\"Bangalore\":\n",
    "    print(\"Hello Kannadiga...Shubhodaya\")\n",
    "else:\n",
    "    print(\"your entered city is invalid\")"
   ]
  },
  {
   "cell_type": "code",
   "execution_count": 8,
   "metadata": {},
   "outputs": [
    {
     "name": "stdout",
     "output_type": "stream",
     "text": [
      "True\n"
     ]
    }
   ],
   "source": [
    "name=(\"fahadullah shaikh\")\n",
    "print('fahad' in name)"
   ]
  },
  {
   "cell_type": "code",
   "execution_count": 13,
   "metadata": {},
   "outputs": [
    {
     "name": "stdout",
     "output_type": "stream",
     "text": [
      "14\n"
     ]
    }
   ],
   "source": [
    "name=('fahadullah shaikh')\n",
    "print(name.find('i'))"
   ]
  },
  {
   "cell_type": "code",
   "execution_count": null,
   "metadata": {},
   "outputs": [],
   "source": []
  }
 ],
 "metadata": {
  "kernelspec": {
   "display_name": "Python 3",
   "language": "python",
   "name": "python3"
  },
  "language_info": {
   "codemirror_mode": {
    "name": "ipython",
    "version": 3
   },
   "file_extension": ".py",
   "mimetype": "text/x-python",
   "name": "python",
   "nbconvert_exporter": "python",
   "pygments_lexer": "ipython3",
   "version": "3.7.1"
  }
 },
 "nbformat": 4,
 "nbformat_minor": 2
}
