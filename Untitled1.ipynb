{
 "cells": [
  {
   "cell_type": "code",
   "execution_count": 2,
   "metadata": {},
   "outputs": [
    {
     "name": "stdout",
     "output_type": "stream",
     "text": [
      "type here20\n",
      "you are 20 years old\n"
     ]
    }
   ],
   "source": [
    "age = int(input('type here'))\n",
    "if age > 10:\n",
    "    print(\"you are \" + str(age) + \" years old\")"
   ]
  },
  {
   "cell_type": "code",
   "execution_count": 4,
   "metadata": {},
   "outputs": [
    {
     "name": "stdout",
     "output_type": "stream",
     "text": [
      "type your age here 11\n",
      "you are old\n"
     ]
    }
   ],
   "source": [
    "age = int(input('type your age here '))\n",
    "if age == 10:\n",
    "    print('you are young')\n",
    "else:\n",
    "    print('you are old')"
   ]
  },
  {
   "cell_type": "code",
   "execution_count": 6,
   "metadata": {},
   "outputs": [
    {
     "name": "stdout",
     "output_type": "stream",
     "text": [
      "type your age here 10\n",
      "you are old\n"
     ]
    }
   ],
   "source": [
    "age=int(input(\"type your age here \"))\n",
    "if age!=10:\n",
    "    print(\"you are young\")\n",
    "else:\n",
    "    print('you are old')"
   ]
  },
  {
   "cell_type": "code",
   "execution_count": 12,
   "metadata": {},
   "outputs": [
    {
     "name": "stdout",
     "output_type": "stream",
     "text": [
      "intiger\n"
     ]
    }
   ],
   "source": [
    "age=10\n",
    "con_age=int(age)\n",
    "if con_age==10:\n",
    "    print('intiger')\n",
    "else:\n",
    "    print('string value')"
   ]
  },
  {
   "cell_type": "code",
   "execution_count": null,
   "metadata": {},
   "outputs": [],
   "source": []
  }
 ],
 "metadata": {
  "kernelspec": {
   "display_name": "Python 3",
   "language": "python",
   "name": "python3"
  },
  "language_info": {
   "codemirror_mode": {
    "name": "ipython",
    "version": 3
   },
   "file_extension": ".py",
   "mimetype": "text/x-python",
   "name": "python",
   "nbconvert_exporter": "python",
   "pygments_lexer": "ipython3",
   "version": "3.7.1"
  }
 },
 "nbformat": 4,
 "nbformat_minor": 2
}
