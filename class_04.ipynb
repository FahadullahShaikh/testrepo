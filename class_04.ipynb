{
 "cells": [
  {
   "cell_type": "code",
   "execution_count": 24,
   "metadata": {},
   "outputs": [
    {
     "name": "stdout",
     "output_type": "stream",
     "text": [
      "['fahad', 10, True]\n",
      "['fahad', 10, True, 'shaikh']\n",
      "['fahad', 10, True, 'shaikh']\n",
      "['fahad', 10, True, 'shaikh']\n",
      "['fahad', 10, True]\n",
      "[1, 2, 3, 4, 5, ['fahad', 10, True, 'shaikh']]\n",
      "fahad\n",
      "['fahad', 10, True, 'shaikh']\n",
      "['fahad', 10, True, 'shaikh']\n",
      "['fahad', 10, True, 'shaikh']\n",
      "['fahad', 10, True, 'shaikh']\n"
     ]
    }
   ],
   "source": [
    "list_one=[\"fahad\",10,True,\"shaikh\"]\n",
    "list_two=[1,2,3,4,5,list_one]\n",
    "\n",
    "print(list_one[0:3])\n",
    "print(list_one[:])\n",
    "print(list_one[0:])\n",
    "print(list_one[:10])\n",
    "print(list_one[-5:-1])\n",
    "print(list_two)\n",
    "print(list_two[5][0])\n",
    "for i in list_one:\n",
    "    print(list_one)\n"
   ]
  },
  {
   "cell_type": "code",
   "execution_count": 37,
   "metadata": {},
   "outputs": [
    {
     "ename": "SyntaxError",
     "evalue": "can't delete function call (<ipython-input-37-a35b17adc05c>, line 2)",
     "output_type": "error",
     "traceback": [
      "\u001b[1;36m  File \u001b[1;32m\"<ipython-input-37-a35b17adc05c>\"\u001b[1;36m, line \u001b[1;32m2\u001b[0m\n\u001b[1;33m    del list_two()\u001b[0m\n\u001b[1;37m       ^\u001b[0m\n\u001b[1;31mSyntaxError\u001b[0m\u001b[1;31m:\u001b[0m can't delete function call\n"
     ]
    }
   ],
   "source": [
    "list_two=(\"fahad\",\"shaikh\",10,20)\n",
    "del list_two()\n",
    "list(list_two)\n",
    "print(list_two)\n",
    "type(list_two)"
   ]
  },
  {
   "cell_type": "code",
   "execution_count": 10,
   "metadata": {},
   "outputs": [
    {
     "name": "stdout",
     "output_type": "stream",
     "text": [
      "912421581072\n",
      "912421581072\n"
     ]
    }
   ],
   "source": [
    "a=\"fahad\"\n",
    "b=\"fahad\"\n",
    "print(id(a))\n",
    "print(id(b))"
   ]
  },
  {
   "cell_type": "code",
   "execution_count": 34,
   "metadata": {},
   "outputs": [
    {
     "name": "stdout",
     "output_type": "stream",
     "text": [
      "type your task here slicing\n",
      "['slicing', 'list data type']\n"
     ]
    }
   ],
   "source": [
    "tasksList=['slicing', 'list data type', 'assignments']\n",
    "donetasks=[]\n",
    "entry=str(input(\"type your task here \"))\n",
    "if entry == \"slicing\" or tasksList == \"list data type\" or tasksList == \"assignments\":\n",
    "    poppedvalue=tasksList.pop()\n",
    "    #donetasks.append[poppedvalue]\n",
    "print(tasksList)"
   ]
  },
  {
   "cell_type": "code",
   "execution_count": null,
   "metadata": {},
   "outputs": [],
   "source": [
    "tasks=[\"email\",\"call\", \"meet\"]\n",
    "a = tasks.pop()\n"
   ]
  },
  {
   "cell_type": "code",
   "execution_count": 39,
   "metadata": {},
   "outputs": [
    {
     "data": {
      "text/plain": [
       "tuple"
      ]
     },
     "execution_count": 39,
     "metadata": {},
     "output_type": "execute_result"
    }
   ],
   "source": [
    "tuple1= (\"pakistan\", \"usa\", \"uae\", 11)\n",
    "student = \"fahad\", \"shaikh\"\n",
    "a,b=student\n",
    "type(student)\n"
   ]
  },
  {
   "cell_type": "code",
   "execution_count": 40,
   "metadata": {},
   "outputs": [
    {
     "name": "stdout",
     "output_type": "stream",
     "text": [
      "ali\n",
      "nouman\n",
      "shakeel\n",
      "asif\n"
     ]
    }
   ],
   "source": [
    "friends=[\"ali\", \"nouman\", \"shakeel\", \"asif\"]\n",
    "for a in friends:\n",
    "    print(a)"
   ]
  },
  {
   "cell_type": "code",
   "execution_count": 41,
   "metadata": {},
   "outputs": [
    {
     "name": "stdout",
     "output_type": "stream",
     "text": [
      "['ali', 'nouman', 'shakeel', 'asif']\n"
     ]
    }
   ],
   "source": [
    "print(friends)"
   ]
  },
  {
   "cell_type": "code",
   "execution_count": 43,
   "metadata": {},
   "outputs": [
    {
     "name": "stdout",
     "output_type": "stream",
     "text": [
      "0\n",
      "1\n",
      "2\n",
      "3\n",
      "4\n"
     ]
    }
   ],
   "source": [
    "value=range(5)\n",
    "for a in value:\n",
    "    print(a)"
   ]
  },
  {
   "cell_type": "code",
   "execution_count": 45,
   "metadata": {},
   "outputs": [
    {
     "name": "stdout",
     "output_type": "stream",
     "text": [
      "0\n",
      "2\n",
      "4\n",
      "6\n",
      "8\n",
      "10\n",
      "12\n",
      "14\n",
      "16\n",
      "18\n"
     ]
    }
   ],
   "source": [
    "for number in range(0,20,2):\n",
    "    print(number)"
   ]
  },
  {
   "cell_type": "code",
   "execution_count": 47,
   "metadata": {},
   "outputs": [
    {
     "name": "stdout",
     "output_type": "stream",
     "text": [
      "12\n",
      "10\n",
      "8\n",
      "6\n",
      "4\n",
      "2\n"
     ]
    }
   ],
   "source": [
    "for number in range(12,0,-2):\n",
    "    print(number)"
   ]
  },
  {
   "cell_type": "code",
   "execution_count": 48,
   "metadata": {},
   "outputs": [
    {
     "name": "stdout",
     "output_type": "stream",
     "text": [
      "1\n",
      "3\n",
      "5\n",
      "7\n",
      "9\n",
      "11\n",
      "13\n"
     ]
    }
   ],
   "source": [
    "for number in range(1,15,2):\n",
    "    print(number)"
   ]
  },
  {
   "cell_type": "code",
   "execution_count": 56,
   "metadata": {},
   "outputs": [
    {
     "name": "stdout",
     "output_type": "stream",
     "text": [
      "5x0=0\n",
      "5x1=5\n",
      "5x2=10\n",
      "5x3=15\n",
      "5x4=20\n",
      "5x5=25\n",
      "5x6=30\n",
      "5x7=35\n",
      "5x8=40\n",
      "5x9=45\n",
      "5x10=50\n"
     ]
    }
   ],
   "source": [
    "a=5\n",
    "for table in range(11):\n",
    "    str\n",
    "    print(str(a) + \"x\" + str(table) + \"=\" + str(a*table))\n",
    "    "
   ]
  },
  {
   "cell_type": "code",
   "execution_count": 59,
   "metadata": {},
   "outputs": [
    {
     "name": "stdout",
     "output_type": "stream",
     "text": [
      "I like fujita pizza\n",
      "I like afghani pizza\n",
      "I like special pizza\n"
     ]
    }
   ],
   "source": [
    "pizzaList=[\"fujita\", \"afghani\", \"special\"]\n",
    "for listType in pizzaList:\n",
    "    print(\"I like \" + listType + \" pizza\")"
   ]
  },
  {
   "cell_type": "code",
   "execution_count": null,
   "metadata": {},
   "outputs": [],
   "source": []
  }
 ],
 "metadata": {
  "kernelspec": {
   "display_name": "Python 3",
   "language": "python",
   "name": "python3"
  },
  "language_info": {
   "codemirror_mode": {
    "name": "ipython",
    "version": 3
   },
   "file_extension": ".py",
   "mimetype": "text/x-python",
   "name": "python",
   "nbconvert_exporter": "python",
   "pygments_lexer": "ipython3",
   "version": "3.7.1"
  }
 },
 "nbformat": 4,
 "nbformat_minor": 2
}
