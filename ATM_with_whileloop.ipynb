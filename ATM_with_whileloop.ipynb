{
 "cells": [
  {
   "cell_type": "code",
   "execution_count": null,
   "metadata": {},
   "outputs": [],
   "source": [
    "print(\"    ATM  Machine  \")\n",
    "\n",
    "operation=input(\"type d for deposit or  w for withdraw\")\n",
    "amount=int(input(\"amount \"))\n",
    "#str(amount)\n",
    "\n",
    "amount_in_account=1000\n",
    "\n",
    "while operation=='w' and amount<=amount_in_account or operation=='d' and amount<=amount_in_account or amount>amount_in_account:\n",
    "    remain=amount_in_account-amount\n",
    "    print(str(amount) + \" amount has been withdrawn\")\n",
    "    print(\"your remaining amount in account is \" + str(remain))\n",
    "    \n",
    "    \n",
    "        "
   ]
  },
  {
   "cell_type": "code",
   "execution_count": 3,
   "metadata": {},
   "outputs": [
    {
     "name": "stdout",
     "output_type": "stream",
     "text": [
      "gul shaikh\n"
     ]
    }
   ],
   "source": [
    "elder=\"fahad shaikh\"\n",
    "name=elder.replace('fahad','gul')\n",
    "print(name)"
   ]
  },
  {
   "cell_type": "code",
   "execution_count": 1,
   "metadata": {},
   "outputs": [
    {
     "name": "stdout",
     "output_type": "stream",
     "text": [
      "Learning Python is very easy\n"
     ]
    }
   ],
   "source": [
    "s = \"Learning Python is very difficult\" \n",
    "s1 = s.replace(\"difficult\",\"easy\")\n",
    "print(s1)"
   ]
  },
  {
   "cell_type": "code",
   "execution_count": 6,
   "metadata": {},
   "outputs": [
    {
     "name": "stdout",
     "output_type": "stream",
     "text": [
      "bbbbccccbbbb\n",
      "a is is  339550969136\n",
      "b id is  339538170416\n"
     ]
    }
   ],
   "source": [
    "a='aaaaccccaaaa'\n",
    "b=a.replace('a','b')\n",
    "print(b)\n",
    "print('a is is ',id(a))\n",
    "print('b id is ',id(b))"
   ]
  },
  {
   "cell_type": "code",
   "execution_count": 8,
   "metadata": {},
   "outputs": [
    {
     "name": "stdout",
     "output_type": "stream",
     "text": [
      "fahadullah\n",
      "shaikh\n"
     ]
    }
   ],
   "source": [
    "name=\"fahadullah shaikh\"\n",
    "n=name.split()\n",
    "for x in n:\n",
    "    print(x)"
   ]
  },
  {
   "cell_type": "code",
   "execution_count": null,
   "metadata": {},
   "outputs": [],
   "source": [
    "print(\"    ATM  Machine  \")\n",
    "\n",
    "operation=input(\"type d for deposit or  w for withdraw\")\n",
    "amount=int(input(\"amount \"))\n",
    "#str(amount)\n",
    "\n",
    "amount_in_account=1000\n",
    "\n",
    "while operation=='w' and amount<=amount_in_account or operation=='d' and amount<=amount_in_account or amount>amount_in_account:\n",
    "    remain=amount_in_account-amount\n",
    "    print(str(amount) + \" amount has been withdrawn\")\n",
    "    print(\"your remaining amount in account is \" + str(remain))\n",
    "    \n",
    "    \n"
   ]
  }
 ],
 "metadata": {
  "kernelspec": {
   "display_name": "Python 3",
   "language": "python",
   "name": "python3"
  },
  "language_info": {
   "codemirror_mode": {
    "name": "ipython",
    "version": 3
   },
   "file_extension": ".py",
   "mimetype": "text/x-python",
   "name": "python",
   "nbconvert_exporter": "python",
   "pygments_lexer": "ipython3",
   "version": "3.7.1"
  }
 },
 "nbformat": 4,
 "nbformat_minor": 2
}
