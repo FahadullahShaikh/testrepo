{
 "cells": [
  {
   "cell_type": "code",
   "execution_count": 9,
   "metadata": {},
   "outputs": [
    {
     "name": "stdout",
     "output_type": "stream",
     "text": [
      "type your marks here 98\n",
      "type your marks here 96\n",
      "type your marks here 87\n",
      "type your marks here 75\n",
      "type your marks here 62\n",
      "Your total marks are 418\n",
      "your percentage is 83.6\n",
      "your grade is A\n"
     ]
    }
   ],
   "source": [
    "english=int(input('type your marks here '))\n",
    "math=int(input('type your marks here '))\n",
    "physics=int(input('type your marks here '))\n",
    "computer=int(input('type your marks here '))\n",
    "chemistry=int(input('type your marks here '))\n",
    "totalmarks=500\n",
    "obtainedmarks=english+math+physics+computer+chemistry\n",
    "per = obtainedmarks / totalmarks * 100\n",
    "grade=\" \"\n",
    "if per >=90 :\n",
    "    grade=\"A*\"\n",
    "\n",
    "elif per >=80 :\n",
    "    grade=\"A\"\n",
    "    \n",
    "elif per >=70 :\n",
    "    grade=\"B\"\n",
    "\n",
    "elif per >=60 :\n",
    "    grade=\"C\"\n",
    "\n",
    "elif per >=50 :\n",
    "    grade=\"D\"\n",
    "\n",
    "else:\n",
    "    print('fail')\n",
    "    \n",
    "print('Your total marks are ' + str(obtainedmarks) + '\\n' + \"your percentage is \" + str(per) + '\\n' + \"your grade is \" + grade)\n",
    "\n"
   ]
  },
  {
   "cell_type": "code",
   "execution_count": 11,
   "metadata": {},
   "outputs": [
    {
     "name": "stdout",
     "output_type": "stream",
     "text": [
      "type your marks here 45\n",
      "type your marks here 50\n",
      "type your marks here 50\n",
      "type your marks here 50\n",
      "type your marks here 50\n",
      "you are not pass in all subjects\n"
     ]
    }
   ],
   "source": [
    "english=int(input('type your marks here '))\n",
    "math=int(input('type your marks here '))\n",
    "physics=int(input('type your marks here '))\n",
    "computer=int(input('type your marks here '))\n",
    "chemistry=int(input('type your marks here '))\n",
    "if english >= 50 and math >= 50 and physics >= 50 and computer >= 50 and chemistry >= 50 :\n",
    "    print(\"you are pass in all subjects\")\n",
    "elif english < 50 or math < 50 or physics < 50 or computer < 50 or chemistry < 50 :\n",
    "    print(\"you are not pass in all subjects\")"
   ]
  },
  {
   "cell_type": "code",
   "execution_count": 14,
   "metadata": {},
   "outputs": [
    {
     "name": "stdout",
     "output_type": "stream",
     "text": [
      "if yes then type 1 or no then type 0 1\n",
      "if yes then type 1 or no then type 0 1\n",
      "you are eligible to vote\n"
     ]
    }
   ],
   "source": [
    "name=int(input(\"if yes then type 1 or no then type 0 \"))\n",
    "nic=int(input(\"if yes then type 1 or no then type 0 \"))\n",
    "if name == 1 and nic == 1:\n",
    "    print(\"you are eligible to vote\")\n",
    "else:\n",
    "    print(\"you are not eligible\")\n"
   ]
  },
  {
   "cell_type": "code",
   "execution_count": 15,
   "metadata": {},
   "outputs": [
    {
     "name": "stdout",
     "output_type": "stream",
     "text": [
      "Type the name of day here SUNDAY\n",
      "type yes if you have ticket yes\n",
      "type your age here 20\n",
      "you can watch movie\n"
     ]
    }
   ],
   "source": [
    "day=str(input(\"Type the name of day here \"))\n",
    "ticket=str(input(\"type yes if you have ticket \"))\n",
    "age=int(input(\"type your age here \"))\n",
    "if day.lower() == 'sunday' and ticket.lower() == 'yes' and age >= 18:\n",
    "    print(\"you can watch movie\")\n",
    "else:\n",
    "    print(\"you can not go for watching movie\")\n"
   ]
  },
  {
   "cell_type": "code",
   "execution_count": null,
   "metadata": {},
   "outputs": [],
   "source": []
  }
 ],
 "metadata": {
  "kernelspec": {
   "display_name": "Python 3",
   "language": "python",
   "name": "python3"
  },
  "language_info": {
   "codemirror_mode": {
    "name": "ipython",
    "version": 3
   },
   "file_extension": ".py",
   "mimetype": "text/x-python",
   "name": "python",
   "nbconvert_exporter": "python",
   "pygments_lexer": "ipython3",
   "version": "3.7.1"
  }
 },
 "nbformat": 4,
 "nbformat_minor": 2
}
