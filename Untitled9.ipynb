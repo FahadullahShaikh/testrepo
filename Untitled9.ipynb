{
 "cells": [
  {
   "cell_type": "code",
   "execution_count": 1,
   "metadata": {},
   "outputs": [
    {
     "name": "stdout",
     "output_type": "stream",
     "text": [
      "Enter Some String:fahadullahshaikh\n",
      "The character present at positive index 0 and at nEgative index -16 is f\n",
      "The character present at positive index 1 and at nEgative index -15 is a\n",
      "The character present at positive index 2 and at nEgative index -14 is h\n",
      "The character present at positive index 3 and at nEgative index -13 is a\n",
      "The character present at positive index 4 and at nEgative index -12 is d\n",
      "The character present at positive index 5 and at nEgative index -11 is u\n",
      "The character present at positive index 6 and at nEgative index -10 is l\n",
      "The character present at positive index 7 and at nEgative index -9 is l\n",
      "The character present at positive index 8 and at nEgative index -8 is a\n",
      "The character present at positive index 9 and at nEgative index -7 is h\n",
      "The character present at positive index 10 and at nEgative index -6 is s\n",
      "The character present at positive index 11 and at nEgative index -5 is h\n",
      "The character present at positive index 12 and at nEgative index -4 is a\n",
      "The character present at positive index 13 and at nEgative index -3 is i\n",
      "The character present at positive index 14 and at nEgative index -2 is k\n",
      "The character present at positive index 15 and at nEgative index -1 is h\n"
     ]
    }
   ],
   "source": [
    "s=input(\"Enter Some String:\")\n",
    "i=0\n",
    "for x in s:\n",
    "    print(\"The character present at positive index {} and at nEgative index {} is {}\".format(i,i-len(s),x))\n",
    "    i=i+1"
   ]
  },
  {
   "cell_type": "code",
   "execution_count": null,
   "metadata": {},
   "outputs": [],
   "source": []
  }
 ],
 "metadata": {
  "kernelspec": {
   "display_name": "Python 3",
   "language": "python",
   "name": "python3"
  },
  "language_info": {
   "codemirror_mode": {
    "name": "ipython",
    "version": 3
   },
   "file_extension": ".py",
   "mimetype": "text/x-python",
   "name": "python",
   "nbconvert_exporter": "python",
   "pygments_lexer": "ipython3",
   "version": "3.7.1"
  }
 },
 "nbformat": 4,
 "nbformat_minor": 2
}
