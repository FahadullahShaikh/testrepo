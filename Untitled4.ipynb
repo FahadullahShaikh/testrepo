{
 "cells": [
  {
   "cell_type": "code",
   "execution_count": 6,
   "metadata": {},
   "outputs": [],
   "source": [
    "number=123\n",
    "type(number)\n",
    "number1=235\n"
   ]
  },
  {
   "cell_type": "code",
   "execution_count": 14,
   "metadata": {},
   "outputs": [
    {
     "data": {
      "text/plain": [
       "751758889400"
      ]
     },
     "execution_count": 14,
     "metadata": {},
     "output_type": "execute_result"
    }
   ],
   "source": [
    "name='fahad'\n",
    "name_one=\"fahad1\"\n",
    "name_two='''fahad'''\n",
    "#id(name)\n",
    "id(name_one)\n",
    "#id(name_two)\n"
   ]
  },
  {
   "cell_type": "code",
   "execution_count": 17,
   "metadata": {},
   "outputs": [
    {
     "name": "stdout",
     "output_type": "stream",
     "text": [
      "fahad365\n"
     ]
    }
   ],
   "source": [
    "num=365\n",
    "name=\"fahad\"\n",
    "combine=name+str(num)\n",
    "print(combine)"
   ]
  },
  {
   "cell_type": "code",
   "execution_count": 31,
   "metadata": {},
   "outputs": [
    {
     "name": "stdout",
     "output_type": "stream",
     "text": [
      "string Slicing\n",
      "fahadullah shaikh\n",
      "fahadullah shaikh\n",
      "fahadullah shaikh\n",
      "fahadullah sh\n",
      "a\n",
      "Help on built-in function lower:\n",
      "\n",
      "lower() method of builtins.str instance\n",
      "    Return a copy of the string converted to lowercase.\n",
      "\n"
     ]
    }
   ],
   "source": [
    "print(\"string Slicing\")\n",
    "name=\"fahadullah shaikh\"\n",
    "print(name[:])\n",
    "print(name[0:])\n",
    "print(name[:17])\n",
    "print(name[0:-4])\n",
    "print(name[-4])\n",
    "help(name.lower)"
   ]
  },
  {
   "cell_type": "code",
   "execution_count": 34,
   "metadata": {},
   "outputs": [
    {
     "name": "stdout",
     "output_type": "stream",
     "text": [
      "My name is fahad \n"
     ]
    }
   ],
   "source": [
    "my_string=\"My name is %s \" %\"fahad\" \n",
    "print(my_string)"
   ]
  },
  {
   "cell_type": "code",
   "execution_count": 38,
   "metadata": {},
   "outputs": [
    {
     "name": "stdout",
     "output_type": "stream",
     "text": [
      "My name is fahad shaikh \n"
     ]
    }
   ],
   "source": [
    "caste=\"shaikh\"\n",
    "name=\"My name is %s %s \" %(\"fahad\",caste)\n",
    "print(name)"
   ]
  },
  {
   "cell_type": "code",
   "execution_count": 39,
   "metadata": {},
   "outputs": [
    {
     "name": "stdout",
     "output_type": "stream",
     "text": [
      "My best friends are nouman and Shakeel \n"
     ]
    }
   ],
   "source": [
    "best=\"nouman\"\n",
    "friend=\"My best friends are %s and %s \" %(best, \"Shakeel\")\n",
    "print(friend)"
   ]
  },
  {
   "cell_type": "code",
   "execution_count": 40,
   "metadata": {},
   "outputs": [
    {
     "name": "stdout",
     "output_type": "stream",
     "text": [
      "2 + 3 = 5\n"
     ]
    }
   ],
   "source": [
    "value=\"%i + %i = %i\" %(2,3,5)\n",
    "print(value)"
   ]
  },
  {
   "cell_type": "code",
   "execution_count": 47,
   "metadata": {},
   "outputs": [
    {
     "name": "stdout",
     "output_type": "stream",
     "text": [
      "1.12\n"
     ]
    }
   ],
   "source": [
    "float_string=\"%.2f\" % 1.123456789\n",
    "print(float_string)"
   ]
  },
  {
   "cell_type": "code",
   "execution_count": 45,
   "metadata": {},
   "outputs": [
    {
     "name": "stdout",
     "output_type": "stream",
     "text": [
      "python is fun!\n"
     ]
    }
   ],
   "source": [
    "print(\"%(lang)s is fun!\"%{\"lang\":\"python\"})"
   ]
  },
  {
   "cell_type": "code",
   "execution_count": 48,
   "metadata": {},
   "outputs": [
    {
     "name": "stdout",
     "output_type": "stream",
     "text": [
      "3 + 2 = 5\n"
     ]
    }
   ],
   "source": [
    "print(\"%(x)i + %(y)i = %(z)i\"%{\"x\":3, \"y\":2, \"z\":5}) "
   ]
  },
  {
   "cell_type": "code",
   "execution_count": 51,
   "metadata": {},
   "outputs": [
    {
     "name": "stdout",
     "output_type": "stream",
     "text": [
      "Python is as simlpe as a, b, c\n"
     ]
    }
   ],
   "source": [
    "print(\"Python is as simlpe as {0}, {1}, {2}\".format(\"a\", \"b\", \"c\"))"
   ]
  },
  {
   "cell_type": "code",
   "execution_count": null,
   "metadata": {},
   "outputs": [],
   "source": []
  }
 ],
 "metadata": {
  "kernelspec": {
   "display_name": "Python 3",
   "language": "python",
   "name": "python3"
  },
  "language_info": {
   "codemirror_mode": {
    "name": "ipython",
    "version": 3
   },
   "file_extension": ".py",
   "mimetype": "text/x-python",
   "name": "python",
   "nbconvert_exporter": "python",
   "pygments_lexer": "ipython3",
   "version": "3.7.1"
  }
 },
 "nbformat": 4,
 "nbformat_minor": 2
}
