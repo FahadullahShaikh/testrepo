{
 "cells": [
  {
   "cell_type": "code",
   "execution_count": 13,
   "metadata": {},
   "outputs": [
    {
     "name": "stdout",
     "output_type": "stream",
     "text": [
      "hello\n",
      "hello\n"
     ]
    }
   ],
   "source": [
    "def addition():\n",
    "    print(\"hello\")\n",
    "addition()\n",
    "addition()\n"
   ]
  },
  {
   "cell_type": "code",
   "execution_count": 13,
   "metadata": {},
   "outputs": [
    {
     "name": "stdout",
     "output_type": "stream",
     "text": [
      "the sum of  10 and  20 is  30\n"
     ]
    }
   ],
   "source": [
    "def addition_one(x,y):\n",
    "    add=x+y\n",
    "    print(\"the sum of \", x , \"and \" , y , \"is \", add)\n",
    "    #return add\n",
    "addition_one(10,20)"
   ]
  },
  {
   "cell_type": "code",
   "execution_count": 14,
   "metadata": {},
   "outputs": [
    {
     "name": "stdout",
     "output_type": "stream",
     "text": [
      "the sum of  20 and  30 is  50\n",
      "None\n"
     ]
    }
   ],
   "source": [
    "ans = addition(20,30)\n",
    "print(ans)"
   ]
  },
  {
   "cell_type": "code",
   "execution_count": 6,
   "metadata": {},
   "outputs": [
    {
     "name": "stdout",
     "output_type": "stream",
     "text": [
      "type number here 20\n",
      "type number here 60\n",
      "the total sum of 20 and 60 is 80\n"
     ]
    },
    {
     "data": {
      "text/plain": [
       "80"
      ]
     },
     "execution_count": 6,
     "metadata": {},
     "output_type": "execute_result"
    }
   ],
   "source": [
    "global a,b\n",
    "a=int(input(\"type number here \"))\n",
    "b=int(input(\"type number here \"))\n",
    "def addition():\n",
    "    c=a+b\n",
    "    print(\"the total sum of \" + str(a) + \" and \" + str(b) + \" is \" + str(c))\n",
    "    return c\n",
    "\n",
    "addition()"
   ]
  },
  {
   "cell_type": "markdown",
   "metadata": {},
   "source": [
    "Position Argument"
   ]
  },
  {
   "cell_type": "code",
   "execution_count": 15,
   "metadata": {},
   "outputs": [
    {
     "data": {
      "text/plain": [
       "30"
      ]
     },
     "execution_count": 15,
     "metadata": {},
     "output_type": "execute_result"
    }
   ],
   "source": [
    "def position():\n",
    "    a=10\n",
    "    b=20\n",
    "    c=a+b\n",
    "    return c\n",
    "position()"
   ]
  },
  {
   "cell_type": "markdown",
   "metadata": {},
   "source": [
    "Keyword Argument"
   ]
  },
  {
   "cell_type": "code",
   "execution_count": 21,
   "metadata": {},
   "outputs": [
    {
     "data": {
      "text/plain": [
       "'fahadshaikh '"
      ]
     },
     "execution_count": 21,
     "metadata": {},
     "output_type": "execute_result"
    }
   ],
   "source": [
    "def record(name,caste):\n",
    "    fullname=name+caste\n",
    "    return fullname\n",
    "record(name=\"fahad \",caste=\" shaikh\")\n",
    "record(caste=\"shaikh \",name= \"fahad\")"
   ]
  },
  {
   "cell_type": "markdown",
   "metadata": {},
   "source": [
    "Passing Default value"
   ]
  },
  {
   "cell_type": "code",
   "execution_count": 24,
   "metadata": {},
   "outputs": [
    {
     "data": {
      "text/plain": [
       "50"
      ]
     },
     "execution_count": 24,
     "metadata": {},
     "output_type": "execute_result"
    }
   ],
   "source": [
    "def addition(one=0, two=0, three=0 ):\n",
    "    four=one+two+three\n",
    "    return four\n",
    "addition(10)\n",
    "addition(20,30)\n"
   ]
  },
  {
   "cell_type": "code",
   "execution_count": 2,
   "metadata": {},
   "outputs": [
    {
     "name": "stdout",
     "output_type": "stream",
     "text": [
      "your age is 25\n",
      "your weight is 60\n",
      "your gender is male\n"
     ]
    }
   ],
   "source": [
    "def keywordpositionaltest(age, weight, gender):\n",
    "    print(\"your age is \"+ str(age))\n",
    "    print(\"your weight is \" + str(weight))\n",
    "    print(\"your gender is \" + gender)\n",
    "keywordpositionaltest(25,60,\"male\")"
   ]
  },
  {
   "cell_type": "markdown",
   "metadata": {},
   "source": [
    "while defining functions default arguments mu be at the end\n",
    "and while calling functions keyword arguments must be at the end "
   ]
  },
  {
   "cell_type": "code",
   "execution_count": 5,
   "metadata": {},
   "outputs": [
    {
     "name": "stdout",
     "output_type": "stream",
     "text": [
      "my name is fahad\n",
      "my roll number is 2125\n",
      "my marks are 550\n"
     ]
    }
   ],
   "source": [
    "def mixing_position_and_keyword_argument(name, rollno, marks):\n",
    "    print(\"my name is \" + name)\n",
    "    print(\"my roll number is \" + str(rollno))\n",
    "    print(\"my marks are \" + str(marks))\n",
    "mixing_position_and_keyword_argument(\"fahad\",2125,marks=550)"
   ]
  },
  {
   "cell_type": "code",
   "execution_count": null,
   "metadata": {},
   "outputs": [],
   "source": []
  },
  {
   "cell_type": "code",
   "execution_count": null,
   "metadata": {},
   "outputs": [],
   "source": []
  }
 ],
 "metadata": {
  "kernelspec": {
   "display_name": "Python 3",
   "language": "python",
   "name": "python3"
  },
  "language_info": {
   "codemirror_mode": {
    "name": "ipython",
    "version": 3
   },
   "file_extension": ".py",
   "mimetype": "text/x-python",
   "name": "python",
   "nbconvert_exporter": "python",
   "pygments_lexer": "ipython3",
   "version": "3.7.1"
  }
 },
 "nbformat": 4,
 "nbformat_minor": 2
}
