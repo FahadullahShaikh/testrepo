{
 "cells": [
  {
   "cell_type": "code",
   "execution_count": 5,
   "metadata": {},
   "outputs": [
    {
     "name": "stdout",
     "output_type": "stream",
     "text": [
      "My name is fahad shaikh and my age is 27\n"
     ]
    }
   ],
   "source": [
    "class Record:\n",
    "    \n",
    "    def __init__(self,name,age):\n",
    "        \n",
    "        self.name = name\n",
    "        self.age = age\n",
    "        \n",
    "    def data(self):\n",
    "        print(f\"My name is {self.name} and my age is {self.age}\")\n",
    "        \n",
    "        \n",
    "data1 = Record(\"fahad shaikh\", 27)\n",
    "data1.data()"
   ]
  },
  {
   "cell_type": "code",
   "execution_count": 6,
   "metadata": {},
   "outputs": [
    {
     "name": "stdout",
     "output_type": "stream",
     "text": [
      "Student's name is fahad shaikh\n",
      "Roll number is 15\n",
      "Marks are 550\n"
     ]
    }
   ],
   "source": [
    "class Student:\n",
    "    def __init__(self, name, roll_no, marks):\n",
    "        self.name = name\n",
    "        self.roll_no = roll_no\n",
    "        self.marks = marks\n",
    "        \n",
    "    def record(self):\n",
    "        print(f\"Student's name is {self.name}\")\n",
    "        print(f\"Roll number is {self.roll_no}\")\n",
    "        print(f\"Marks are {self.marks}\")\n",
    "        \n",
    "std1 = Student(roll_no=15,name=\"fahad shaikh\", marks=550)\n",
    "std1.record()"
   ]
  },
  {
   "cell_type": "code",
   "execution_count": null,
   "metadata": {},
   "outputs": [],
   "source": []
  }
 ],
 "metadata": {
  "kernelspec": {
   "display_name": "Python 3",
   "language": "python",
   "name": "python3"
  },
  "language_info": {
   "codemirror_mode": {
    "name": "ipython",
    "version": 3
   },
   "file_extension": ".py",
   "mimetype": "text/x-python",
   "name": "python",
   "nbconvert_exporter": "python",
   "pygments_lexer": "ipython3",
   "version": "3.7.1"
  }
 },
 "nbformat": 4,
 "nbformat_minor": 2
}
