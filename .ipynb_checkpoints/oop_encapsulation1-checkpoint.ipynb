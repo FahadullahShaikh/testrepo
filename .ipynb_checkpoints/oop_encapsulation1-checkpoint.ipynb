{
 "cells": [
  {
   "cell_type": "code",
   "execution_count": 13,
   "metadata": {},
   "outputs": [
    {
     "name": "stdout",
     "output_type": "stream",
     "text": [
      "300\n",
      "blue\n",
      "green\n",
      "500\n",
      "white\n"
     ]
    }
   ],
   "source": [
    " class Car:\n",
    "        def __init__(self,speed,color):\n",
    "            self.speed = speed\n",
    "            self.color = color\n",
    "            \n",
    "toyota = Car(300,'blue')\n",
    "print(toyota.speed)\n",
    "print(toyota.color)\n",
    "toyota.color='green'\n",
    "print(toyota.color)\n",
    "abc=Car(500,'white')\n",
    "\n",
    "\n",
    "\n",
    "        "
   ]
  },
  {
   "cell_type": "code",
   "execution_count": 12,
   "metadata": {},
   "outputs": [
    {
     "name": "stdout",
     "output_type": "stream",
     "text": [
      "80\n",
      "60\n"
     ]
    },
    {
     "ename": "AttributeError",
     "evalue": "'Result' object has no attribute '__pro'",
     "output_type": "error",
     "traceback": [
      "\u001b[1;31m---------------------------------------------------------------------------\u001b[0m",
      "\u001b[1;31mAttributeError\u001b[0m                            Traceback (most recent call last)",
      "\u001b[1;32m<ipython-input-12-961ba5347fd7>\u001b[0m in \u001b[0;36m<module>\u001b[1;34m\u001b[0m\n\u001b[0;32m      7\u001b[0m \u001b[0mprint\u001b[0m\u001b[1;33m(\u001b[0m\u001b[0mhello\u001b[0m\u001b[1;33m.\u001b[0m\u001b[0menglish\u001b[0m\u001b[1;33m)\u001b[0m\u001b[1;33m\u001b[0m\u001b[1;33m\u001b[0m\u001b[0m\n\u001b[0;32m      8\u001b[0m \u001b[0mprint\u001b[0m\u001b[1;33m(\u001b[0m\u001b[0mhello\u001b[0m\u001b[1;33m.\u001b[0m\u001b[0m_math\u001b[0m\u001b[1;33m)\u001b[0m\u001b[1;33m\u001b[0m\u001b[1;33m\u001b[0m\u001b[0m\n\u001b[1;32m----> 9\u001b[1;33m \u001b[0mprint\u001b[0m\u001b[1;33m(\u001b[0m\u001b[0mhello\u001b[0m\u001b[1;33m.\u001b[0m\u001b[0m__pro\u001b[0m\u001b[1;33m)\u001b[0m\u001b[1;33m\u001b[0m\u001b[1;33m\u001b[0m\u001b[0m\n\u001b[0m\u001b[0;32m     10\u001b[0m \u001b[1;33m\u001b[0m\u001b[0m\n",
      "\u001b[1;31mAttributeError\u001b[0m: 'Result' object has no attribute '__pro'"
     ]
    }
   ],
   "source": [
    "class Result:\n",
    "    def __init__(self,name):\n",
    "        self.english = 80\n",
    "        self._math = 60\n",
    "        self.__pro = 50 //private\n",
    "hello = Result('name')\n",
    "print(hello.english)\n",
    "print(hello._math) \n",
    "print(hello.__pro)\n",
    "    "
   ]
  },
  {
   "cell_type": "code",
   "execution_count": 14,
   "metadata": {},
   "outputs": [
    {
     "ename": "AttributeError",
     "evalue": "'Car' object has no attribute 'set_spees'",
     "output_type": "error",
     "traceback": [
      "\u001b[1;31m---------------------------------------------------------------------------\u001b[0m",
      "\u001b[1;31mAttributeError\u001b[0m                            Traceback (most recent call last)",
      "\u001b[1;32m<ipython-input-14-908e7256e485>\u001b[0m in \u001b[0;36m<module>\u001b[1;34m\u001b[0m\n\u001b[0;32m     14\u001b[0m \u001b[0maudi\u001b[0m \u001b[1;33m=\u001b[0m \u001b[0mCar\u001b[0m\u001b[1;33m(\u001b[0m\u001b[1;36m300\u001b[0m\u001b[1;33m,\u001b[0m\u001b[1;34m'black'\u001b[0m\u001b[1;33m)\u001b[0m\u001b[1;33m\u001b[0m\u001b[1;33m\u001b[0m\u001b[0m\n\u001b[0;32m     15\u001b[0m \u001b[1;33m\u001b[0m\u001b[0m\n\u001b[1;32m---> 16\u001b[1;33m \u001b[0mford\u001b[0m\u001b[1;33m.\u001b[0m\u001b[0mset_spees\u001b[0m\u001b[1;33m(\u001b[0m\u001b[1;36m300\u001b[0m\u001b[1;33m)\u001b[0m\u001b[1;33m\u001b[0m\u001b[1;33m\u001b[0m\u001b[0m\n\u001b[0m\u001b[0;32m     17\u001b[0m \u001b[0mford\u001b[0m\u001b[1;33m.\u001b[0m\u001b[0m__speed\u001b[0m\u001b[1;33m(\u001b[0m\u001b[1;36m400\u001b[0m\u001b[1;33m)\u001b[0m\u001b[1;33m\u001b[0m\u001b[1;33m\u001b[0m\u001b[0m\n\u001b[0;32m     18\u001b[0m \u001b[1;33m\u001b[0m\u001b[0m\n",
      "\u001b[1;31mAttributeError\u001b[0m: 'Car' object has no attribute 'set_spees'"
     ]
    }
   ],
   "source": [
    " class Car:\n",
    "        def __init__(self,speed,color):\n",
    "            self.__speed = speed\n",
    "            self.__color = color\n",
    "            \n",
    "        def set_speed(delf,value):\n",
    "            self.__speed = value\n",
    "            \n",
    "        def get_speed(self):\n",
    "            return self.__speed\n",
    "            \n",
    "ford = Car(200, 'red')\n",
    "honda = Car(250,'blue')\n",
    "audi = Car(300,'black')\n",
    "\n",
    "ford.set_spees(300)\n",
    "ford.__speed(400)\n",
    "\n",
    "print(ford.get_speed())\n",
    "print(ford.color)\n"
   ]
  },
  {
   "cell_type": "code",
   "execution_count": null,
   "metadata": {},
   "outputs": [],
   "source": []
  }
 ],
 "metadata": {
  "kernelspec": {
   "display_name": "Python 3",
   "language": "python",
   "name": "python3"
  },
  "language_info": {
   "codemirror_mode": {
    "name": "ipython",
    "version": 3
   },
   "file_extension": ".py",
   "mimetype": "text/x-python",
   "name": "python",
   "nbconvert_exporter": "python",
   "pygments_lexer": "ipython3",
   "version": "3.7.1"
  }
 },
 "nbformat": 4,
 "nbformat_minor": 2
}
