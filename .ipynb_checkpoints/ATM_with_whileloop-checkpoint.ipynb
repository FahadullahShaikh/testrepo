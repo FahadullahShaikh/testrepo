{
 "cells": [
  {
   "cell_type": "code",
   "execution_count": null,
   "metadata": {},
   "outputs": [],
   "source": [
    "print(\"    ATM  Machine  \")\n",
    "\n",
    "operation=input(\"type d for deposit or  w for withdraw\")\n",
    "amount=int(input(\"amount \"))\n",
    "#str(amount)\n",
    "\n",
    "amount_in_account=1000\n",
    "\n",
    "while operation=='w' and amount<=amount_in_account or operation=='d' and amount<=amount_in_account or amount>amount_in_account:\n",
    "    remain=amount_in_account-amount\n",
    "    print(str(amount) + \" amount has been withdrawn\")\n",
    "    print(\"your remaining amount in account is \" + str(remain))\n",
    "    \n",
    "        "
   ]
  },
  {
   "cell_type": "code",
   "execution_count": null,
   "metadata": {},
   "outputs": [],
   "source": []
  },
  {
   "cell_type": "code",
   "execution_count": null,
   "metadata": {},
   "outputs": [],
   "source": []
  }
 ],
 "metadata": {
  "kernelspec": {
   "display_name": "Python 3",
   "language": "python",
   "name": "python3"
  },
  "language_info": {
   "codemirror_mode": {
    "name": "ipython",
    "version": 3
   },
   "file_extension": ".py",
   "mimetype": "text/x-python",
   "name": "python",
   "nbconvert_exporter": "python",
   "pygments_lexer": "ipython3",
   "version": "3.7.1"
  }
 },
 "nbformat": 4,
 "nbformat_minor": 2
}
