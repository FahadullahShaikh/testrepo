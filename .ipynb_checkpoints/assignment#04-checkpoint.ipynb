{
 "cells": [
  {
   "cell_type": "code",
   "execution_count": 19,
   "metadata": {},
   "outputs": [
    {
     "name": "stdout",
     "output_type": "stream",
     "text": [
      "\n",
      "\n",
      "taskList[0] is \"email\"\n",
      "taskList[1] is \"assignment\"\n",
      "taskList[2] is \"presentation\"\n",
      "taskList[3] is \"project\"\n",
      "\n",
      "\n"
     ]
    }
   ],
   "source": [
    "print('''\n",
    "\n",
    "taskList[0] is \"email\"\n",
    "taskList[1] is \"assignment\"\n",
    "taskList[2] is \"presentation\"\n",
    "taskList[3] is \"project\"\n",
    "\n",
    "After every entry each task will move one step up.... \n",
    "''')\n",
    "    "
   ]
  },
  {
   "cell_type": "code",
   "execution_count": 13,
   "metadata": {},
   "outputs": [],
   "source": [
    "tasks=[\"email\", \"assignment\", \"presentation\", \"project\"]\n",
    "taskdone=[]\n",
    "\n"
   ]
  },
  {
   "cell_type": "code",
   "execution_count": 15,
   "metadata": {},
   "outputs": [
    {
     "name": "stdout",
     "output_type": "stream",
     "text": [
      "type here 1\n",
      "['presentation', 'assignment']\n"
     ]
    }
   ],
   "source": [
    "entry=int(input(\"type here \"))\n",
    "task_accomplished = tasks.pop(entry)\n",
    "taskdone.append(task_accomplished)\n",
    "\n",
    "print(taskdone)"
   ]
  },
  {
   "cell_type": "code",
   "execution_count": null,
   "metadata": {},
   "outputs": [],
   "source": []
  }
 ],
 "metadata": {
  "kernelspec": {
   "display_name": "Python 3",
   "language": "python",
   "name": "python3"
  },
  "language_info": {
   "codemirror_mode": {
    "name": "ipython",
    "version": 3
   },
   "file_extension": ".py",
   "mimetype": "text/x-python",
   "name": "python",
   "nbconvert_exporter": "python",
   "pygments_lexer": "ipython3",
   "version": "3.7.1"
  }
 },
 "nbformat": 4,
 "nbformat_minor": 2
}
