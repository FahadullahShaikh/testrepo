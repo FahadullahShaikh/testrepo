{
 "cells": [
  {
   "cell_type": "markdown",
   "metadata": {},
   "source": [
    "Relational Operators:>, >=, <, <="
   ]
  },
  {
   "cell_type": "code",
   "execution_count": 1,
   "metadata": {},
   "outputs": [
    {
     "name": "stdout",
     "output_type": "stream",
     "text": [
      "type first number20\n",
      "type second number10\n",
      "20 is greater than 10\n"
     ]
    }
   ],
   "source": [
    "a=int(input(\"type first number\"))\n",
    "b=int(input(\"type second number\"))\n",
    "\n",
    "elif a>b:\n",
    "    print(str(a) + \" is greater than \" + str(b))\n",
    "    \n",
    "elif\n",
    "\n",
    "else:\n",
    "    print(\"Condition not matched\")"
   ]
  },
  {
   "cell_type": "code",
   "execution_count": null,
   "metadata": {},
   "outputs": [],
   "source": []
  }
 ],
 "metadata": {
  "kernelspec": {
   "display_name": "Python 3",
   "language": "python",
   "name": "python3"
  },
  "language_info": {
   "codemirror_mode": {
    "name": "ipython",
    "version": 3
   },
   "file_extension": ".py",
   "mimetype": "text/x-python",
   "name": "python",
   "nbconvert_exporter": "python",
   "pygments_lexer": "ipython3",
   "version": "3.7.1"
  }
 },
 "nbformat": 4,
 "nbformat_minor": 2
}
