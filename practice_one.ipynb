{
 "cells": [
  {
   "cell_type": "code",
   "execution_count": 2,
   "metadata": {},
   "outputs": [
    {
     "name": "stdout",
     "output_type": "stream",
     "text": [
      "this isn't shouldn't wouldn't can't couldn't\n"
     ]
    }
   ],
   "source": [
    "quotes=\"this isn\\'t shouldn\\'t wouldn\\'t can\\'t couldn\\'t\"\n",
    "print(quotes)"
   ]
  },
  {
   "cell_type": "code",
   "execution_count": 4,
   "metadata": {},
   "outputs": [
    {
     "name": "stdout",
     "output_type": "stream",
     "text": [
      "I said, \"isn't shouldn't wouldn't can't couldn't.\"\n"
     ]
    }
   ],
   "source": [
    "double_quotes=\"I said, \\\"isn\\'t shouldn\\'t wouldn\\'t can\\'t couldn\\'t.\\\"\"\n",
    "print(double_quotes)"
   ]
  },
  {
   "cell_type": "code",
   "execution_count": 7,
   "metadata": {},
   "outputs": [
    {
     "name": "stdout",
     "output_type": "stream",
     "text": [
      "this isn't shouldn't wouldn't can't couldn't\n"
     ]
    }
   ],
   "source": [
    "triple_quotes='''this isn't shouldn't wouldn't can't couldn't'''\n",
    "print(triple_quotes)"
   ]
  },
  {
   "cell_type": "code",
   "execution_count": 13,
   "metadata": {},
   "outputs": [
    {
     "name": "stdout",
     "output_type": "stream",
     "text": [
      "I scored 1000\n"
     ]
    }
   ],
   "source": [
    "myscore=1000\n",
    "message=\"I scored %s\"\n",
    "print(message % myscore)"
   ]
  },
  {
   "cell_type": "code",
   "execution_count": 14,
   "metadata": {},
   "outputs": [
    {
     "name": "stdout",
     "output_type": "stream",
     "text": [
      "I scored 20 runs in 2 overs\n"
     ]
    }
   ],
   "source": [
    "double_nums=\"I scored %s runs in %s overs\"\n",
    "print(double_nums % (20,2))"
   ]
  },
  {
   "cell_type": "code",
   "execution_count": 17,
   "metadata": {},
   "outputs": [
    {
     "name": "stdout",
     "output_type": "stream",
     "text": [
      "Karachi Karachi Karachi Karachi Karachi Karachi Karachi Karachi Karachi Karachi \n"
     ]
    }
   ],
   "source": [
    "print(10*'Karachi ')"
   ]
  },
  {
   "cell_type": "code",
   "execution_count": 27,
   "metadata": {},
   "outputs": [
    {
     "name": "stdout",
     "output_type": "stream",
     "text": [
      "[[1, 2, 3, 4, 5, 'i', 'am', 'fahad', 'shaikh']]\n",
      "[1, 2, 3, 4, 6, 1, 2, 3, 4, 6, 1, 2, 3, 4, 6]\n"
     ]
    }
   ],
   "source": [
    "first=[1,2,3,4,5]\n",
    "second=['i','am', 'fahad', 'shaikh']\n",
    "third=[first+second]\n",
    "first.append(6)\n",
    "del first[4]\n",
    "print(third)\n",
    "print(first*3)"
   ]
  },
  {
   "cell_type": "code",
   "execution_count": 28,
   "metadata": {},
   "outputs": [
    {
     "name": "stdout",
     "output_type": "stream",
     "text": [
      "['fahad,cricket', 'faisal,football']\n"
     ]
    }
   ],
   "source": [
    "lis=['fahad,cricket','faisal,football']\n",
    "print(lis)"
   ]
  },
  {
   "cell_type": "code",
   "execution_count": 36,
   "metadata": {},
   "outputs": [
    {
     "name": "stdout",
     "output_type": "stream",
     "text": [
      "{'fahad': 'cricket', 'faisal': 'football'}\n",
      "{'fahad': 'cricket'}\n",
      "{'fahad': 'football'}\n"
     ]
    }
   ],
   "source": [
    "lis1={'fahad':'cricket',\n",
    "      'faisal':'football'\n",
    "     }\n",
    "print(lis1)\n",
    "del lis1['faisal']\n",
    "print(lis1)\n",
    "lis1['fahad']='football'\n",
    "print(lis1)"
   ]
  },
  {
   "cell_type": "code",
   "execution_count": 1,
   "metadata": {},
   "outputs": [
    {
     "name": "stdout",
     "output_type": "stream",
     "text": [
      "correct\n"
     ]
    }
   ],
   "source": [
    "fname=\"fahad\"\n",
    "lname=\"shaikh\"\n",
    "fullname=fname+lname\n",
    "if fullname==\"fahadshaikh\":\n",
    "    print(\"correct\")"
   ]
  },
  {
   "cell_type": "code",
   "execution_count": 2,
   "metadata": {},
   "outputs": [
    {
     "name": "stdout",
     "output_type": "stream",
     "text": [
      "['nouman', 'shakeel']\n"
     ]
    }
   ],
   "source": [
    "friend=['nouman', 'shakeel', 'raja', 'asif']\n",
    "print(friend[0:2])"
   ]
  },
  {
   "cell_type": "code",
   "execution_count": 8,
   "metadata": {},
   "outputs": [
    {
     "name": "stdout",
     "output_type": "stream",
     "text": [
      "['shakeel', 'raja']\n",
      "['nouman', 'shakeel', 'raja', 'asif', 'irfan']\n",
      "['nouman', 'shakeel', 'asif', 'irfan']\n",
      "['nouman', 'shakeel', 'faisal', 'asif', 'irfan']\n",
      "nouman\n",
      "shakeel\n",
      "faisal\n",
      "asif\n",
      "irfan\n"
     ]
    }
   ],
   "source": [
    "friend=['nouman', 'shakeel', 'raja', 'asif']\n",
    "print(friend[-3:-1])\n",
    "friend.append('irfan')\n",
    "print(friend)\n",
    "del friend[2]\n",
    "print(friend)\n",
    "friend.insert(2, 'faisal')\n",
    "print(friend)\n",
    "for i in friend:\n",
    "    print(i)"
   ]
  },
  {
   "cell_type": "code",
   "execution_count": 18,
   "metadata": {},
   "outputs": [
    {
     "name": "stdout",
     "output_type": "stream",
     "text": [
      "{1: 'nouman', 2: 'shakeel', 3: 'raja', 4: 'asif'}\n",
      "shakeel\n",
      "{1: 'nouman', 2: 'shakeel', 3: 'raja'}\n",
      "(1, 'nouman')\n",
      "(2, 'shakeel')\n",
      "(3, 'raja')\n"
     ]
    }
   ],
   "source": [
    "mydict={1:'nouman', 2:'shakeel', 3:'raja', 4:'asif'}\n",
    "print(mydict)\n",
    "print(mydict[2])\n",
    "del mydict[4]\n",
    "print(mydict)\n",
    "for i in mydict.items():\n",
    "    print(i)"
   ]
  },
  {
   "cell_type": "code",
   "execution_count": 20,
   "metadata": {},
   "outputs": [
    {
     "name": "stdout",
     "output_type": "stream",
     "text": [
      "The customer's 1 is nouman\n",
      "The customer's 2 is shakeel\n",
      "The customer's 3 is raja\n",
      "The customer's 4 is asif\n"
     ]
    }
   ],
   "source": [
    "mydict={1:'nouman', 2:'shakeel', 3:'raja', 4:'asif'}\n",
    "for each_key, each_value in mydict.items():\n",
    "    print(\"The customer's \" + str(each_key) + \" is \" +each_value)"
   ]
  },
  {
   "cell_type": "code",
   "execution_count": 27,
   "metadata": {},
   "outputs": [
    {
     "name": "stdout",
     "output_type": "stream",
     "text": [
      "{'customer id': 1, 'first name': 'Ann', 'last name': 'Sattermyer', 'address': 'PO Box 1145'}\n"
     ]
    },
    {
     "ename": "NameError",
     "evalue": "name 'address' is not defined",
     "output_type": "error",
     "traceback": [
      "\u001b[1;31m---------------------------------------------------------------------------\u001b[0m",
      "\u001b[1;31mNameError\u001b[0m                                 Traceback (most recent call last)",
      "\u001b[1;32m<ipython-input-27-de04d7f2a102>\u001b[0m in \u001b[0;36m<module>\u001b[1;34m\u001b[0m\n\u001b[0;32m     22\u001b[0m ]\n\u001b[0;32m     23\u001b[0m \u001b[0mprint\u001b[0m\u001b[1;33m(\u001b[0m\u001b[0mcustomers\u001b[0m\u001b[1;33m[\u001b[0m\u001b[1;36m1\u001b[0m\u001b[1;33m]\u001b[0m\u001b[1;33m)\u001b[0m\u001b[1;33m\u001b[0m\u001b[1;33m\u001b[0m\u001b[0m\n\u001b[1;32m---> 24\u001b[1;33m \u001b[1;32mfor\u001b[0m \u001b[0ma\u001b[0m \u001b[1;32min\u001b[0m \u001b[0mcustomers\u001b[0m\u001b[1;33m[\u001b[0m\u001b[1;36m0\u001b[0m\u001b[1;33m]\u001b[0m\u001b[1;33m[\u001b[0m\u001b[0maddress\u001b[0m\u001b[1;33m]\u001b[0m\u001b[1;33m:\u001b[0m\u001b[1;33m\u001b[0m\u001b[1;33m\u001b[0m\u001b[0m\n\u001b[0m\u001b[0;32m     25\u001b[0m     \u001b[0mprint\u001b[0m\u001b[1;33m(\u001b[0m\u001b[0ma\u001b[0m\u001b[1;33m)\u001b[0m\u001b[1;33m\u001b[0m\u001b[1;33m\u001b[0m\u001b[0m\n",
      "\u001b[1;31mNameError\u001b[0m: name 'address' is not defined"
     ]
    }
   ],
   "source": [
    "customers = [\n",
    "{\n",
    " \"customer id\": 0,\n",
    " \"first name\":\"John\",\n",
    " \"last name\": \"Ogden\",\n",
    " \"address\": \"301 Arbor Rd.\",\n",
    "},\n",
    "\n",
    "{\n",
    "\"customer id\": 1,\n",
    "\"first name\":\"Ann\",\n",
    "\"last name\": \"Sattermyer\",\n",
    "\"address\": \"PO Box 1145\",\n",
    "},\n",
    "    \n",
    "{\n",
    "\"customer id\": 2,\n",
    "\"first name\":\"Ann\",\n",
    "\"last name\": \"Sattermyer\",\n",
    "\"address\": \"PO Box 1145\",\n",
    "    },\n",
    "]\n",
    "print(customers[1])\n",
    "for a in customers[0][address]:\n",
    "    print(a)"
   ]
  },
  {
   "cell_type": "code",
   "execution_count": 39,
   "metadata": {},
   "outputs": [
    {
     "data": {
      "text/plain": [
       "15"
      ]
     },
     "execution_count": 39,
     "metadata": {},
     "output_type": "execute_result"
    }
   ],
   "source": [
    "def add():\n",
    "    a=10\n",
    "    b=5\n",
    "    global c\n",
    "    c=a+b\n",
    "    return c\n",
    "add()"
   ]
  },
  {
   "cell_type": "code",
   "execution_count": 38,
   "metadata": {},
   "outputs": [
    {
     "name": "stdout",
     "output_type": "stream",
     "text": [
      "5\n"
     ]
    }
   ],
   "source": [
    "def minus():\n",
    "    d=c-10\n",
    "    print(d)\n",
    "minus()"
   ]
  },
  {
   "cell_type": "code",
   "execution_count": 40,
   "metadata": {},
   "outputs": [
    {
     "data": {
      "text/plain": [
       "18"
      ]
     },
     "execution_count": 40,
     "metadata": {},
     "output_type": "execute_result"
    }
   ],
   "source": [
    "def add(a,b):\n",
    "    c=a+b\n",
    "    return c\n",
    "add(10,8)"
   ]
  },
  {
   "cell_type": "code",
   "execution_count": 44,
   "metadata": {},
   "outputs": [
    {
     "name": "stdout",
     "output_type": "stream",
     "text": [
      "my name is fahad and caste is shaikh\n",
      "my name is shaikh and caste is fahad\n",
      "my name is nouman and caste is shaikh\n"
     ]
    }
   ],
   "source": [
    "def data(name,caste):\n",
    "    print('my name is ' + name + ' and caste is ' + caste)\n",
    "data('fahad', 'shaikh')\n",
    "data('shaikh','fahad')\n",
    "data(caste='shaikh', name='nouman')"
   ]
  },
  {
   "cell_type": "code",
   "execution_count": 46,
   "metadata": {},
   "outputs": [
    {
     "name": "stdout",
     "output_type": "stream",
     "text": [
      "asif good\n",
      "nouman best\n"
     ]
    }
   ],
   "source": [
    "def friend(name,status='good'):\n",
    "    print(name, status)\n",
    "friend('asif')\n",
    "friend('nouman', 'best')"
   ]
  },
  {
   "cell_type": "code",
   "execution_count": 49,
   "metadata": {},
   "outputs": [
    {
     "name": "stdout",
     "output_type": "stream",
     "text": [
      "fahad shaikh\n",
      "faisal shaikh\n"
     ]
    }
   ],
   "source": [
    "def aaa(name,caste):\n",
    "    print(name,caste)\n",
    "aaa('fahad', caste='shaikh')\n",
    "aaa('faisal', caste='shaikh')"
   ]
  },
  {
   "cell_type": "code",
   "execution_count": 51,
   "metadata": {},
   "outputs": [
    {
     "ename": "SyntaxError",
     "evalue": "positional argument follows keyword argument (<ipython-input-51-4874dc90f767>, line 3)",
     "output_type": "error",
     "traceback": [
      "\u001b[1;36m  File \u001b[1;32m\"<ipython-input-51-4874dc90f767>\"\u001b[1;36m, line \u001b[1;32m3\u001b[0m\n\u001b[1;33m    data(address='karachi', 'fahad', 'one')\u001b[0m\n\u001b[1;37m                           ^\u001b[0m\n\u001b[1;31mSyntaxError\u001b[0m\u001b[1;31m:\u001b[0m positional argument follows keyword argument\n"
     ]
    }
   ],
   "source": [
    "def data(name,address,code='none'):\n",
    "    print('name is ' + name + ' address is ' + address + ' code is ' + code)\n",
    "data(address='karachi', 'fahad', 'one')"
   ]
  },
  {
   "cell_type": "code",
   "execution_count": 1,
   "metadata": {},
   "outputs": [
    {
     "name": "stdout",
     "output_type": "stream",
     "text": [
      "nouman shakeel momo\n"
     ]
    }
   ],
   "source": [
    "def newdata(f1,f2,f3,**others):\n",
    "    print(f1 + \" \" + f2 + \" \" + f3)\n",
    "newdata(f1='nouman', f2='shakeel', f3='momo', f4='raja', f5='asif')"
   ]
  },
  {
   "cell_type": "code",
   "execution_count": null,
   "metadata": {},
   "outputs": [],
   "source": []
  }
 ],
 "metadata": {
  "kernelspec": {
   "display_name": "Python 3",
   "language": "python",
   "name": "python3"
  },
  "language_info": {
   "codemirror_mode": {
    "name": "ipython",
    "version": 3
   },
   "file_extension": ".py",
   "mimetype": "text/x-python",
   "name": "python",
   "nbconvert_exporter": "python",
   "pygments_lexer": "ipython3",
   "version": "3.7.1"
  }
 },
 "nbformat": 4,
 "nbformat_minor": 2
}
